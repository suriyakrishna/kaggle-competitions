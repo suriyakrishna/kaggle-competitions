{
 "cells": [
  {
   "cell_type": "code",
   "execution_count": 75,
   "metadata": {},
   "outputs": [],
   "source": [
    "# imports \n",
    "\n",
    "import pandas as pd\n",
    "import numpy as np\n",
    "import seaborn as sb\n",
    "import matplotlib.pyplot as plt\n",
    "\n",
    "from sklearn.model_selection import train_test_split\n",
    "from sklearn.preprocessing import MinMaxScaler, OrdinalEncoder\n",
    "from sklearn.metrics import classification_report, confusion_matrix, ConfusionMatrixDisplay\n",
    "\n",
    "from sklearn.linear_model import LogisticRegression"
   ]
  },
  {
   "cell_type": "code",
   "execution_count": 76,
   "metadata": {},
   "outputs": [],
   "source": [
    "train_df = pd.read_csv(\"../data/transformed/train_df_clean.csv\", index_col=0)\n",
    "test_df = pd.read_csv(\"../data/transformed/test_df_clean.csv\", index_col=0)"
   ]
  },
  {
   "cell_type": "code",
   "execution_count": 77,
   "metadata": {},
   "outputs": [],
   "source": [
    "# Sex and Embarked Column should be encoded as Numerical Value\n",
    "encoder = OrdinalEncoder()\n",
    "\n",
    "columns_to_encode = ['Sex', 'Embarked']\n",
    "\n",
    "train_df[columns_to_encode] = encoder.fit_transform(train_df[columns_to_encode])\n",
    "test_df[columns_to_encode] = encoder.transform(test_df[columns_to_encode])"
   ]
  },
  {
   "cell_type": "code",
   "execution_count": 78,
   "metadata": {},
   "outputs": [],
   "source": [
    "label = 'Survived'\n",
    "features = train_df.columns.drop(label).tolist()\n",
    "\n",
    "X_train, X_test, y_train, y_test = train_test_split(train_df[features], train_df[label], test_size=0.2)\n",
    "X_test_unseen = test_df[features]"
   ]
  },
  {
   "cell_type": "code",
   "execution_count": 79,
   "metadata": {},
   "outputs": [],
   "source": [
    "def evaluvate_model(model, train, test):\n",
    "    X_train, y_train = train\n",
    "    X_test, y_test = test\n",
    "\n",
    "    y_train_predicted = model.predict(X_train)\n",
    "    y_test_predicted = model.predict(X_test)\n",
    "\n",
    "    print(\"\\n-------------- Train Classification Report --------------\")\n",
    "    print(classification_report(y_train, y_train_predicted))\n",
    "    print(\"\\n-------------- Test Classification Report --------------\")\n",
    "    print(classification_report(y_test, y_test_predicted))\n",
    "    "
   ]
  },
  {
   "cell_type": "code",
   "execution_count": 84,
   "metadata": {},
   "outputs": [
    {
     "name": "stdout",
     "output_type": "stream",
     "text": [
      "\n",
      "-------------- Train Classification Report --------------\n",
      "              precision    recall  f1-score   support\n",
      "\n",
      "           0       0.84      0.88      0.86       441\n",
      "           1       0.78      0.72      0.75       271\n",
      "\n",
      "    accuracy                           0.82       712\n",
      "   macro avg       0.81      0.80      0.80       712\n",
      "weighted avg       0.82      0.82      0.82       712\n",
      "\n",
      "\n",
      "-------------- Test Classification Report --------------\n",
      "              precision    recall  f1-score   support\n",
      "\n",
      "           0       0.78      0.90      0.84       108\n",
      "           1       0.80      0.62      0.70        71\n",
      "\n",
      "    accuracy                           0.79       179\n",
      "   macro avg       0.79      0.76      0.77       179\n",
      "weighted avg       0.79      0.79      0.78       179\n",
      "\n"
     ]
    }
   ],
   "source": [
    "lr = LogisticRegression(penalty='l2', max_iter=1000)\n",
    "lr.fit(X_train, y_train)\n",
    "\n",
    "evaluvate_model(lr, (X_train, y_train), (X_test, y_test))"
   ]
  },
  {
   "cell_type": "code",
   "execution_count": 81,
   "metadata": {},
   "outputs": [
    {
     "name": "stdout",
     "output_type": "stream",
     "text": [
      "\n",
      "-------------- Train Classification Report --------------\n",
      "              precision    recall  f1-score   support\n",
      "\n",
      "           0       0.90      0.97      0.94       441\n",
      "           1       0.94      0.83      0.88       271\n",
      "\n",
      "    accuracy                           0.92       712\n",
      "   macro avg       0.92      0.90      0.91       712\n",
      "weighted avg       0.92      0.92      0.92       712\n",
      "\n",
      "\n",
      "-------------- Test Classification Report --------------\n",
      "              precision    recall  f1-score   support\n",
      "\n",
      "           0       0.80      0.93      0.86       108\n",
      "           1       0.85      0.65      0.74        71\n",
      "\n",
      "    accuracy                           0.82       179\n",
      "   macro avg       0.83      0.79      0.80       179\n",
      "weighted avg       0.82      0.82      0.81       179\n",
      "\n"
     ]
    }
   ],
   "source": [
    "from sklearn.ensemble import RandomForestClassifier\n",
    "\n",
    "rfc = RandomForestClassifier(max_leaf_nodes=40)\n",
    "rfc.fit(X_train, y_train)\n",
    "\n",
    "evaluvate_model(rfc, (X_train, y_train), (X_test, y_test))"
   ]
  },
  {
   "cell_type": "code",
   "execution_count": 89,
   "metadata": {},
   "outputs": [],
   "source": [
    "from datetime import datetime\n",
    "\n",
    "now = datetime.now().strftime(\"%Y%m%d_%H%M%S\")\n",
    "\n",
    "output = pd.read_csv(\"../data/input/gender_submission.csv\", index_col=0)\n",
    "output['Survived'] = rfc.predict(X_test_unseen)\n",
    "\n",
    "output.to_csv(f\"../data/output/titanic_prediction_{now}.csv\", index=True)"
   ]
  }
 ],
 "metadata": {
  "kernelspec": {
   "display_name": "venv",
   "language": "python",
   "name": "python3"
  },
  "language_info": {
   "codemirror_mode": {
    "name": "ipython",
    "version": 3
   },
   "file_extension": ".py",
   "mimetype": "text/x-python",
   "name": "python",
   "nbconvert_exporter": "python",
   "pygments_lexer": "ipython3",
   "version": "3.9.16"
  },
  "orig_nbformat": 4
 },
 "nbformat": 4,
 "nbformat_minor": 2
}
