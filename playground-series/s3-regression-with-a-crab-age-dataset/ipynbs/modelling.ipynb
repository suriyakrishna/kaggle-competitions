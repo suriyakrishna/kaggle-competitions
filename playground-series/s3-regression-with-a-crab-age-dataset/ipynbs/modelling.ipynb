{
 "cells": [
  {
   "cell_type": "code",
   "execution_count": 1,
   "metadata": {},
   "outputs": [],
   "source": [
    "# imports\n",
    "\n",
    "import pandas as pd\n",
    "import numpy as np\n",
    "\n",
    "from sklearn.model_selection import train_test_split\n",
    "from sklearn.metrics import mean_absolute_error\n",
    "\n",
    "import matplotlib.pyplot as plt\n",
    "\n",
    "import tensorflow as tf"
   ]
  },
  {
   "cell_type": "code",
   "execution_count": 2,
   "metadata": {},
   "outputs": [],
   "source": [
    "# train_df = pd.read_csv(\"../data/transformed/train_outliers_removed.csv\", index_col=0)\n",
    "train_df = pd.read_csv(\"../data/transformed/train_outliers_removed.csv\", index_col=0)\n",
    "original_df = pd.read_csv(\"../data/transformed/original_outliers_removed.csv\")\n",
    "test_df = pd.read_csv(\"../data/input/test.csv\", index_col=0)\n",
    "\n",
    "train_df['source'] = 'train'\n",
    "original_df['source'] = 'original'\n",
    "\n",
    "# train_df = train_df[train_df.age > 2]"
   ]
  },
  {
   "cell_type": "code",
   "execution_count": 3,
   "metadata": {},
   "outputs": [],
   "source": [
    "# Handling duplicates\n",
    "cols = [\"length\", \"diameter\", \"height\", \"weight\", \"shucked_weight\", \"viscera_weight\", \"shell_weight\", \"age\"]\n",
    "\n",
    "df = pd.concat([train_df, original_df])\n",
    "\n",
    "grp = df.groupby(cols)['source']\n",
    "\n",
    "df['source_cnt'] = grp.transform(lambda x: len(set(x)))"
   ]
  },
  {
   "cell_type": "code",
   "execution_count": 4,
   "metadata": {},
   "outputs": [
    {
     "data": {
      "text/plain": [
       "162"
      ]
     },
     "execution_count": 4,
     "metadata": {},
     "output_type": "execute_result"
    }
   ],
   "source": [
    "# Records exists in both train and original\n",
    "unique_records = df[df['source_cnt'] == 1]\n",
    "records_to_keep_from_dups = df[(df['source_cnt'] > 1) & (df['source'] == 'original')]\n",
    "\n",
    "\n",
    "unique_df = pd.concat([unique_records, records_to_keep_from_dups])\n",
    "\n",
    "df.shape[0] - unique_df.shape[0]"
   ]
  },
  {
   "cell_type": "code",
   "execution_count": 5,
   "metadata": {},
   "outputs": [],
   "source": [
    "grp1 = unique_df.groupby(cols)['sex']\n",
    "\n",
    "unique_df['sex_cnt'] = grp1.transform(lambda x: len(set(x)))"
   ]
  },
  {
   "cell_type": "code",
   "execution_count": 6,
   "metadata": {},
   "outputs": [],
   "source": [
    "unique_df1 = unique_df[(unique_df['sex_cnt'] == 1)]\n",
    "\n",
    "unique_df1 = unique_df1.drop(['source', 'sex_cnt', 'source_cnt'], axis = 1)"
   ]
  },
  {
   "cell_type": "code",
   "execution_count": 7,
   "metadata": {},
   "outputs": [
    {
     "data": {
      "text/plain": [
       "267"
      ]
     },
     "execution_count": 7,
     "metadata": {},
     "output_type": "execute_result"
    }
   ],
   "source": [
    "df.shape[0] - unique_df1.shape[0]"
   ]
  },
  {
   "attachments": {},
   "cell_type": "markdown",
   "metadata": {},
   "source": [
    "## Train Test Split"
   ]
  },
  {
   "cell_type": "code",
   "execution_count": 8,
   "metadata": {},
   "outputs": [],
   "source": [
    "df = unique_df1.copy()\n",
    "\n",
    "target = 'age'\n",
    "features = df.columns.drop(target).tolist()\n",
    "\n",
    "X = df[features]\n",
    "y = df[target]\n",
    "\n",
    "X_train, X_test, y_train, y_test = train_test_split(X, y, test_size=0.2, random_state=1)"
   ]
  },
  {
   "attachments": {},
   "cell_type": "markdown",
   "metadata": {},
   "source": [
    "## Feature Engineering"
   ]
  },
  {
   "attachments": {},
   "cell_type": "markdown",
   "metadata": {},
   "source": [
    "#### Encode sex values"
   ]
  },
  {
   "cell_type": "code",
   "execution_count": 9,
   "metadata": {},
   "outputs": [],
   "source": [
    "from sklearn.preprocessing import OneHotEncoder\n",
    "\n",
    "oh_encoder = OneHotEncoder(sparse_output=True, dtype='int')\n",
    "oh_encoder.fit(X_train[['sex']])\n",
    "\n",
    "sex_columns = [\"sex\" + \"_\" + col for col in oh_encoder.categories_[0]]\n",
    "\n",
    "X_train[sex_columns] = oh_encoder.transform(X_train[['sex']]).toarray()\n",
    "X_train = X_train.drop('sex', axis = 1)\n",
    "\n",
    "X_test[sex_columns] = oh_encoder.transform(X_test[['sex']]).toarray()\n",
    "X_test = X_test.drop('sex', axis = 1)"
   ]
  },
  {
   "attachments": {},
   "cell_type": "markdown",
   "metadata": {},
   "source": [
    "#### Feature Scaling"
   ]
  },
  {
   "cell_type": "code",
   "execution_count": 10,
   "metadata": {},
   "outputs": [],
   "source": [
    "from sklearn.preprocessing import RobustScaler\n",
    "\n",
    "columns_to_scale = ['length', 'diameter', 'height', 'weight', 'shucked_weight', 'viscera_weight', 'shell_weight']\n",
    "\n",
    "scaler = RobustScaler()\n",
    "scaler.fit(X_train[columns_to_scale])\n",
    "\n",
    "\n",
    "X_train[columns_to_scale] = scaler.transform(X_train[columns_to_scale])\n",
    "X_test[columns_to_scale] = scaler.transform(X_test[columns_to_scale])"
   ]
  },
  {
   "attachments": {},
   "cell_type": "markdown",
   "metadata": {},
   "source": [
    "## Modelling"
   ]
  },
  {
   "cell_type": "code",
   "execution_count": 11,
   "metadata": {},
   "outputs": [],
   "source": [
    "def evaluate(model, train, test):    \n",
    "    X_train, y_train = train\n",
    "    X_test, y_test = test\n",
    "    \n",
    "    y_train_predicted = model.predict(X_train)\n",
    "    y_test_predicted = model.predict(X_test)\n",
    "\n",
    "    train_mae = mean_absolute_error(y_train, y_train_predicted)\n",
    "    test_mae = mean_absolute_error(y_test, y_test_predicted)\n",
    "\n",
    "    print(f\"Train MAE: {train_mae}\")\n",
    "    print(f\"Test MAE: {test_mae}\")"
   ]
  },
  {
   "attachments": {},
   "cell_type": "markdown",
   "metadata": {},
   "source": [
    "### Model"
   ]
  },
  {
   "attachments": {},
   "cell_type": "markdown",
   "metadata": {},
   "source": [
    "#### Linear Regressor"
   ]
  },
  {
   "cell_type": "code",
   "execution_count": 12,
   "metadata": {},
   "outputs": [
    {
     "name": "stdout",
     "output_type": "stream",
     "text": [
      "Train MAE: 1.4894812773311314\n",
      "Test MAE: 1.4684874449574559\n"
     ]
    }
   ],
   "source": [
    "from sklearn.linear_model import LinearRegression\n",
    "\n",
    "lr = LinearRegression()\n",
    "\n",
    "lr.fit(X_train, y_train)\n",
    "\n",
    "evaluate(lr, (X_train, y_train), (X_test, y_test))"
   ]
  },
  {
   "attachments": {},
   "cell_type": "markdown",
   "metadata": {},
   "source": [
    "#### Random Forest Regressor"
   ]
  },
  {
   "cell_type": "code",
   "execution_count": 13,
   "metadata": {},
   "outputs": [
    {
     "name": "stdout",
     "output_type": "stream",
     "text": [
      "Train MAE: 0.5555007268696823\n",
      "Test MAE: 1.4618114138658078\n"
     ]
    }
   ],
   "source": [
    "from sklearn.ensemble import RandomForestRegressor\n",
    "\n",
    "rfr_default = RandomForestRegressor()\n",
    "\n",
    "rfr_default.fit(X_train, y_train)\n",
    "\n",
    "# overfitting\n",
    "evaluate(rfr_default, (X_train, y_train), (X_test, y_test))"
   ]
  },
  {
   "cell_type": "code",
   "execution_count": 14,
   "metadata": {},
   "outputs": [
    {
     "name": "stdout",
     "output_type": "stream",
     "text": [
      "Train MAE: 1.414116908021466\n",
      "Test MAE: 1.4212457191809567\n"
     ]
    }
   ],
   "source": [
    "rfr1 = RandomForestRegressor(max_leaf_nodes=90)\n",
    "\n",
    "rfr1.fit(X_train, y_train)\n",
    "\n",
    "evaluate(rfr1, (X_train, y_train), (X_test, y_test))"
   ]
  },
  {
   "cell_type": "code",
   "execution_count": 15,
   "metadata": {},
   "outputs": [
    {
     "name": "stdout",
     "output_type": "stream",
     "text": [
      "Train MAE: 1.3917928522379504\n",
      "Test MAE: 1.412676095548001\n"
     ]
    }
   ],
   "source": [
    "rfr2 = RandomForestRegressor(max_leaf_nodes=150)\n",
    "\n",
    "rfr2.fit(X_train, y_train)\n",
    "\n",
    "evaluate(rfr2, (X_train, y_train), (X_test, y_test))"
   ]
  },
  {
   "attachments": {},
   "cell_type": "markdown",
   "metadata": {},
   "source": [
    "#### Gradient Boosting Regressor"
   ]
  },
  {
   "cell_type": "code",
   "execution_count": 16,
   "metadata": {},
   "outputs": [
    {
     "name": "stdout",
     "output_type": "stream",
     "text": [
      "Train MAE: 1.4163529586208565\n",
      "Test MAE: 1.4095763330400861\n"
     ]
    }
   ],
   "source": [
    "from sklearn.ensemble import GradientBoostingRegressor\n",
    "\n",
    "gbr_default = GradientBoostingRegressor()\n",
    "\n",
    "gbr_default.fit(X_train, y_train)\n",
    "\n",
    "evaluate(gbr_default, (X_train, y_train), (X_test, y_test))"
   ]
  },
  {
   "cell_type": "code",
   "execution_count": 17,
   "metadata": {},
   "outputs": [
    {
     "name": "stdout",
     "output_type": "stream",
     "text": [
      "Train MAE: 1.3919540012282718\n",
      "Test MAE: 1.3959411223130493\n"
     ]
    }
   ],
   "source": [
    "from sklearn.ensemble import GradientBoostingRegressor\n",
    "\n",
    "gbr_1 = GradientBoostingRegressor(max_depth=4)\n",
    "\n",
    "gbr_1.fit(X_train, y_train)\n",
    "\n",
    "evaluate(gbr_1, (X_train, y_train), (X_test, y_test))"
   ]
  },
  {
   "attachments": {},
   "cell_type": "markdown",
   "metadata": {},
   "source": [
    "#### HistGradientBoostingRegressor"
   ]
  },
  {
   "cell_type": "code",
   "execution_count": 18,
   "metadata": {},
   "outputs": [
    {
     "name": "stdout",
     "output_type": "stream",
     "text": [
      "Train MAE: 1.3600819360376541\n",
      "Test MAE: 1.3643087189947976\n"
     ]
    }
   ],
   "source": [
    "from sklearn.ensemble import HistGradientBoostingRegressor\n",
    "\n",
    "hgbr = HistGradientBoostingRegressor(loss = 'absolute_error')\n",
    "\n",
    "hgbr.fit(X_train, y_train)\n",
    "\n",
    "evaluate(hgbr, (X_train, y_train), (X_test, y_test))"
   ]
  },
  {
   "cell_type": "code",
   "execution_count": 19,
   "metadata": {},
   "outputs": [
    {
     "name": "stdout",
     "output_type": "stream",
     "text": [
      "Train MAE: 1.3542088772034733\n",
      "Test MAE: 1.3598284710619022\n"
     ]
    }
   ],
   "source": [
    "from sklearn.ensemble import HistGradientBoostingRegressor\n",
    "\n",
    "hgbr_1 = HistGradientBoostingRegressor(\n",
    "    loss = 'absolute_error', \n",
    "    l2_regularization = 0.01,\n",
    "    max_depth=5, \n",
    "    max_iter=500,\n",
    "    random_state=42)\n",
    "\n",
    "hgbr_1.fit(X_train, y_train)\n",
    "\n",
    "evaluate(hgbr_1, (X_train, y_train), (X_test, y_test))"
   ]
  },
  {
   "attachments": {},
   "cell_type": "markdown",
   "metadata": {},
   "source": [
    "#### Stacking Regressor"
   ]
  },
  {
   "cell_type": "code",
   "execution_count": 20,
   "metadata": {},
   "outputs": [
    {
     "name": "stdout",
     "output_type": "stream",
     "text": [
      "Train MAE: 1.39628357080875\n",
      "Test MAE: 1.4213175418692716\n"
     ]
    }
   ],
   "source": [
    "from sklearn.ensemble import StackingRegressor\n",
    "from sklearn.linear_model import Ridge\n",
    "\n",
    "sr = StackingRegressor(\n",
    "    [('rfr2', rfr2), (\"gbr_1\", gbr_1), ('hgbr', hgbr)], \n",
    "    final_estimator=Ridge(), \n",
    "    cv = 'prefit')\n",
    "\n",
    "sr.fit(X_train, y_train)\n",
    "\n",
    "evaluate(sr, (X_train, y_train), (X_test, y_test))"
   ]
  },
  {
   "attachments": {},
   "cell_type": "markdown",
   "metadata": {},
   "source": [
    "#### Deep Learning Model (Flatten Model)"
   ]
  },
  {
   "cell_type": "code",
   "execution_count": 21,
   "metadata": {},
   "outputs": [
    {
     "name": "stdout",
     "output_type": "stream",
     "text": [
      "Epoch 1/100\n",
      "477/477 [==============================] - 3s 4ms/step - loss: 8.7751 - val_loss: 6.6767\n",
      "Epoch 2/100\n",
      "477/477 [==============================] - 1s 3ms/step - loss: 4.3264 - val_loss: 2.0800\n",
      "Epoch 3/100\n",
      "477/477 [==============================] - 1s 3ms/step - loss: 1.5220 - val_loss: 1.4536\n",
      "Epoch 4/100\n",
      "477/477 [==============================] - 1s 3ms/step - loss: 1.4726 - val_loss: 1.4368\n",
      "Epoch 5/100\n",
      "477/477 [==============================] - 1s 3ms/step - loss: 1.4633 - val_loss: 1.4222\n",
      "Epoch 6/100\n",
      "477/477 [==============================] - 1s 3ms/step - loss: 1.4586 - val_loss: 1.4123\n",
      "Epoch 7/100\n",
      "477/477 [==============================] - 1s 3ms/step - loss: 1.4515 - val_loss: 1.4061\n",
      "Epoch 8/100\n",
      "477/477 [==============================] - 1s 3ms/step - loss: 1.4507 - val_loss: 1.4067\n",
      "Epoch 9/100\n",
      "477/477 [==============================] - 1s 3ms/step - loss: 1.4492 - val_loss: 1.4006\n",
      "Epoch 10/100\n",
      "477/477 [==============================] - 1s 3ms/step - loss: 1.4427 - val_loss: 1.4092\n",
      "Epoch 11/100\n",
      "477/477 [==============================] - 1s 3ms/step - loss: 1.4388 - val_loss: 1.4032\n",
      "Epoch 12/100\n",
      "477/477 [==============================] - 1s 3ms/step - loss: 1.4345 - val_loss: 1.3871\n",
      "Epoch 13/100\n",
      "477/477 [==============================] - 1s 3ms/step - loss: 1.4318 - val_loss: 1.3878\n",
      "Epoch 14/100\n",
      "477/477 [==============================] - 1s 3ms/step - loss: 1.4306 - val_loss: 1.3883\n",
      "Epoch 15/100\n",
      "477/477 [==============================] - 1s 3ms/step - loss: 1.4295 - val_loss: 1.3830\n",
      "Epoch 16/100\n",
      "477/477 [==============================] - 1s 3ms/step - loss: 1.4267 - val_loss: 1.3880\n",
      "Epoch 17/100\n",
      "477/477 [==============================] - 1s 3ms/step - loss: 1.4262 - val_loss: 1.3912\n",
      "Epoch 18/100\n",
      "477/477 [==============================] - 1s 3ms/step - loss: 1.4293 - val_loss: 1.3803\n",
      "Epoch 19/100\n",
      "477/477 [==============================] - 1s 3ms/step - loss: 1.4241 - val_loss: 1.3808\n",
      "Epoch 20/100\n",
      "477/477 [==============================] - 1s 3ms/step - loss: 1.4259 - val_loss: 1.3784\n",
      "Epoch 21/100\n",
      "477/477 [==============================] - 1s 3ms/step - loss: 1.4241 - val_loss: 1.3773\n",
      "Epoch 22/100\n",
      "477/477 [==============================] - 1s 3ms/step - loss: 1.4183 - val_loss: 1.3792\n",
      "Epoch 23/100\n",
      "477/477 [==============================] - 1s 3ms/step - loss: 1.4199 - val_loss: 1.3771\n",
      "Epoch 24/100\n",
      "477/477 [==============================] - 1s 3ms/step - loss: 1.4191 - val_loss: 1.3765\n",
      "Epoch 25/100\n",
      "477/477 [==============================] - 2s 3ms/step - loss: 1.4211 - val_loss: 1.3808\n",
      "Epoch 26/100\n",
      "477/477 [==============================] - 2s 4ms/step - loss: 1.4210 - val_loss: 1.3752\n",
      "Epoch 27/100\n",
      "477/477 [==============================] - 2s 3ms/step - loss: 1.4215 - val_loss: 1.3798\n",
      "Epoch 28/100\n",
      "477/477 [==============================] - 2s 4ms/step - loss: 1.4222 - val_loss: 1.3826\n",
      "Epoch 29/100\n",
      "477/477 [==============================] - 2s 3ms/step - loss: 1.4207 - val_loss: 1.3787\n",
      "Epoch 30/100\n",
      "477/477 [==============================] - 2s 3ms/step - loss: 1.4180 - val_loss: 1.3790\n",
      "Epoch 31/100\n",
      "477/477 [==============================] - 2s 4ms/step - loss: 1.4184 - val_loss: 1.3759\n"
     ]
    }
   ],
   "source": [
    "import keras\n",
    "from keras import layers, optimizers, callbacks, regularizers\n",
    "\n",
    "dl_model = keras.Sequential(\n",
    "    [\n",
    "        layers.InputLayer(input_shape=(X_train.shape[1])),\n",
    "        layers.Dense(5, activation='relu'),\n",
    "        layers.BatchNormalization(),\n",
    "        layers.Dense(3, activation='relu'),\n",
    "        layers.BatchNormalization(),\n",
    "        layers.Dense(1)\n",
    "    ]\n",
    ")\n",
    "\n",
    "dl_model.compile(\n",
    "    optimizer = optimizers.Adam(learning_rate = 0.001),\n",
    "    loss = 'mae'\n",
    ")\n",
    "\n",
    "model_callbacks = [\n",
    "    callbacks.EarlyStopping(\n",
    "        monitor = 'val_loss',\n",
    "        patience = 5,\n",
    "        restore_best_weights = True\n",
    "    )\n",
    "]\n",
    "\n",
    "history = dl_model.fit(\n",
    "    X_train, \n",
    "    y_train, \n",
    "    batch_size = 128, \n",
    "    epochs = 100,\n",
    "    validation_data = (X_test, y_test), \n",
    "    callbacks = model_callbacks,\n",
    "    workers = 2\n",
    ")"
   ]
  },
  {
   "cell_type": "code",
   "execution_count": 22,
   "metadata": {},
   "outputs": [
    {
     "name": "stdout",
     "output_type": "stream",
     "text": [
      "Model: \"sequential\"\n",
      "_________________________________________________________________\n",
      " Layer (type)                Output Shape              Param #   \n",
      "=================================================================\n",
      " dense (Dense)               (None, 5)                 55        \n",
      "                                                                 \n",
      " batch_normalization (BatchN  (None, 5)                20        \n",
      " ormalization)                                                   \n",
      "                                                                 \n",
      " dense_1 (Dense)             (None, 3)                 18        \n",
      "                                                                 \n",
      " batch_normalization_1 (Batc  (None, 3)                12        \n",
      " hNormalization)                                                 \n",
      "                                                                 \n",
      " dense_2 (Dense)             (None, 1)                 4         \n",
      "                                                                 \n",
      "=================================================================\n",
      "Total params: 109\n",
      "Trainable params: 93\n",
      "Non-trainable params: 16\n",
      "_________________________________________________________________\n"
     ]
    }
   ],
   "source": [
    "dl_model.summary()"
   ]
  },
  {
   "cell_type": "code",
   "execution_count": 23,
   "metadata": {},
   "outputs": [
    {
     "name": "stdout",
     "output_type": "stream",
     "text": [
      "1905/1905 [==============================] - 4s 2ms/step\n",
      "477/477 [==============================] - 1s 2ms/step\n",
      "Train MAE: 1.398093918343461\n",
      "Test MAE: 1.3752151057300182\n"
     ]
    }
   ],
   "source": [
    "evaluate(dl_model, (X_train, y_train), (X_test, y_test))"
   ]
  },
  {
   "cell_type": "code",
   "execution_count": 24,
   "metadata": {},
   "outputs": [
    {
     "data": {
      "text/plain": [
       "[Text(0.5, 1.0, 'Epoch vs Loss'),\n",
       " Text(0.5, 0, 'Epoch'),\n",
       " Text(0, 0.5, 'Loss (MAE)')]"
      ]
     },
     "execution_count": 24,
     "metadata": {},
     "output_type": "execute_result"
    },
    {
     "data": {
      "image/png": "[encoded data removed]",
      "text/plain": [
       "<Figure size 640x480 with 1 Axes>"
      ]
     },
     "metadata": {},
     "output_type": "display_data"
    }
   ],
   "source": [
    "axs = plt.axes()\n",
    "axs.plot(history.history['loss'], label = 'train-loss')\n",
    "axs.plot(history.history['val_loss'], label = 'val-loss')\n",
    "axs.set(title = 'Epoch vs Loss', xlabel = 'Epoch', ylabel = 'Loss (MAE)')"
   ]
  },
  {
   "attachments": {},
   "cell_type": "markdown",
   "metadata": {},
   "source": [
    "#### Deep Learning Model (1D-CNN Model)"
   ]
  },
  {
   "cell_type": "code",
   "execution_count": 25,
   "metadata": {},
   "outputs": [],
   "source": [
    "X_train_reshaped = X_train.to_numpy().reshape(-1, 10, 1)\n",
    "X_test_reshaped = X_test.to_numpy().reshape(-1, 10, 1)"
   ]
  },
  {
   "cell_type": "code",
   "execution_count": 26,
   "metadata": {},
   "outputs": [
    {
     "name": "stdout",
     "output_type": "stream",
     "text": [
      "Model: \"sequential_1\"\n",
      "_________________________________________________________________\n",
      " Layer (type)                Output Shape              Param #   \n",
      "=================================================================\n",
      " conv1d (Conv1D)             (None, 8, 64)             256       \n",
      "                                                                 \n",
      " conv1d_1 (Conv1D)           (None, 6, 32)             6176      \n",
      "                                                                 \n",
      " conv1d_2 (Conv1D)           (None, 4, 16)             1552      \n",
      "                                                                 \n",
      " global_average_pooling1d (G  (None, 16)               0         \n",
      " lobalAveragePooling1D)                                          \n",
      "                                                                 \n",
      " flatten (Flatten)           (None, 16)                0         \n",
      "                                                                 \n",
      " dense_3 (Dense)             (None, 5)                 85        \n",
      "                                                                 \n",
      " dense_4 (Dense)             (None, 1)                 6         \n",
      "                                                                 \n",
      "=================================================================\n",
      "Total params: 8,075\n",
      "Trainable params: 8,075\n",
      "Non-trainable params: 0\n",
      "_________________________________________________________________\n",
      "Epoch 1/100\n",
      "477/477 [==============================] - 4s 7ms/step - loss: 2.5259 - val_loss: 1.6319\n",
      "Epoch 2/100\n",
      "477/477 [==============================] - 3s 6ms/step - loss: 1.6266 - val_loss: 1.5949\n",
      "Epoch 3/100\n",
      "477/477 [==============================] - 4s 8ms/step - loss: 1.6011 - val_loss: 1.5669\n",
      "Epoch 4/100\n",
      "477/477 [==============================] - 3s 7ms/step - loss: 1.5686 - val_loss: 1.5295\n",
      "Epoch 5/100\n",
      "477/477 [==============================] - 4s 8ms/step - loss: 1.5339 - val_loss: 1.4967\n",
      "Epoch 6/100\n",
      "477/477 [==============================] - 3s 7ms/step - loss: 1.5020 - val_loss: 1.4632\n",
      "Epoch 7/100\n",
      "477/477 [==============================] - 4s 9ms/step - loss: 1.4838 - val_loss: 1.4399\n",
      "Epoch 8/100\n",
      "477/477 [==============================] - 5s 10ms/step - loss: 1.4672 - val_loss: 1.4421\n",
      "Epoch 9/100\n",
      "477/477 [==============================] - 4s 9ms/step - loss: 1.4591 - val_loss: 1.4390\n",
      "Epoch 10/100\n",
      "477/477 [==============================] - 5s 10ms/step - loss: 1.4537 - val_loss: 1.4554\n",
      "Epoch 11/100\n",
      "477/477 [==============================] - 4s 9ms/step - loss: 1.4497 - val_loss: 1.4242\n",
      "Epoch 12/100\n",
      "477/477 [==============================] - 4s 9ms/step - loss: 1.4495 - val_loss: 1.4777\n",
      "Epoch 13/100\n",
      "477/477 [==============================] - 5s 10ms/step - loss: 1.4444 - val_loss: 1.4418\n",
      "Epoch 14/100\n",
      "477/477 [==============================] - 4s 9ms/step - loss: 1.4419 - val_loss: 1.4703\n",
      "Epoch 15/100\n",
      "477/477 [==============================] - 5s 10ms/step - loss: 1.4415 - val_loss: 1.4107\n",
      "Epoch 16/100\n",
      "477/477 [==============================] - 4s 9ms/step - loss: 1.4404 - val_loss: 1.4108\n",
      "Epoch 17/100\n",
      "477/477 [==============================] - 4s 9ms/step - loss: 1.4360 - val_loss: 1.4227\n",
      "Epoch 18/100\n",
      "477/477 [==============================] - 4s 9ms/step - loss: 1.4339 - val_loss: 1.4377\n",
      "Epoch 19/100\n",
      "477/477 [==============================] - 4s 9ms/step - loss: 1.4333 - val_loss: 1.4155\n",
      "Epoch 20/100\n",
      "477/477 [==============================] - 4s 9ms/step - loss: 1.4307 - val_loss: 1.4012\n",
      "Epoch 21/100\n",
      "477/477 [==============================] - 4s 9ms/step - loss: 1.4301 - val_loss: 1.4189\n",
      "Epoch 22/100\n",
      "477/477 [==============================] - 4s 9ms/step - loss: 1.4304 - val_loss: 1.4577\n",
      "Epoch 23/100\n",
      "477/477 [==============================] - 5s 10ms/step - loss: 1.4304 - val_loss: 1.3972\n",
      "Epoch 24/100\n",
      "477/477 [==============================] - 4s 9ms/step - loss: 1.4230 - val_loss: 1.4255\n",
      "Epoch 25/100\n",
      "477/477 [==============================] - 4s 9ms/step - loss: 1.4265 - val_loss: 1.4108\n",
      "Epoch 26/100\n",
      "477/477 [==============================] - 4s 8ms/step - loss: 1.4227 - val_loss: 1.3971\n",
      "Epoch 27/100\n",
      "477/477 [==============================] - 4s 8ms/step - loss: 1.4260 - val_loss: 1.3948\n",
      "Epoch 28/100\n",
      "477/477 [==============================] - 3s 7ms/step - loss: 1.4205 - val_loss: 1.4123\n",
      "Epoch 29/100\n",
      "477/477 [==============================] - 3s 6ms/step - loss: 1.4191 - val_loss: 1.4064\n",
      "Epoch 30/100\n",
      "477/477 [==============================] - 4s 8ms/step - loss: 1.4190 - val_loss: 1.3895\n",
      "Epoch 31/100\n",
      "477/477 [==============================] - 5s 10ms/step - loss: 1.4172 - val_loss: 1.3855\n",
      "Epoch 32/100\n",
      "477/477 [==============================] - 5s 11ms/step - loss: 1.4147 - val_loss: 1.3876\n",
      "Epoch 33/100\n",
      "477/477 [==============================] - 5s 10ms/step - loss: 1.4124 - val_loss: 1.4504\n",
      "Epoch 34/100\n",
      "477/477 [==============================] - 5s 10ms/step - loss: 1.4160 - val_loss: 1.3905\n",
      "Epoch 35/100\n",
      "477/477 [==============================] - 5s 10ms/step - loss: 1.4139 - val_loss: 1.3950\n",
      "Epoch 36/100\n",
      "477/477 [==============================] - 5s 11ms/step - loss: 1.4130 - val_loss: 1.3868\n"
     ]
    }
   ],
   "source": [
    "import keras\n",
    "from keras import layers, optimizers, callbacks, regularizers\n",
    "\n",
    "dl_cnn_model = keras.Sequential(\n",
    "    [\n",
    "        layers.InputLayer(input_shape= X_train_reshaped.shape[1:]),\n",
    "        layers.Conv1D(filters = 64, kernel_size = 3, activation='relu'),\n",
    "        layers.Conv1D(filters = 32, kernel_size = 3, activation='relu'),\n",
    "        layers.Conv1D(filters = 16, kernel_size = 3, activation='relu'),\n",
    "        layers.GlobalAveragePooling1D(), \n",
    "        layers.Flatten(),\n",
    "        layers.Dense(5, activation='relu'),\n",
    "        layers.Dense(1)\n",
    "    ]\n",
    ")\n",
    "\n",
    "dl_cnn_model.summary()\n",
    "\n",
    "dl_cnn_model.compile(\n",
    "    optimizer = optimizers.Adam(learning_rate = 0.001),\n",
    "    loss = 'mae'\n",
    ")\n",
    "\n",
    "model_callbacks = [\n",
    "    callbacks.EarlyStopping(\n",
    "        monitor = 'val_loss',\n",
    "        patience = 5,\n",
    "        restore_best_weights = True\n",
    "    )\n",
    "]\n",
    "\n",
    "history = dl_cnn_model.fit(\n",
    "    X_train, \n",
    "    y_train, \n",
    "    batch_size = 128, \n",
    "    epochs = 100,\n",
    "    validation_data = (X_test, y_test), \n",
    "    callbacks = model_callbacks,\n",
    "    workers = 2\n",
    ")"
   ]
  },
  {
   "cell_type": "code",
   "execution_count": 27,
   "metadata": {},
   "outputs": [
    {
     "name": "stdout",
     "output_type": "stream",
     "text": [
      "1905/1905 [==============================] - 8s 4ms/step\n",
      "477/477 [==============================] - 2s 4ms/step\n",
      "Train MAE: 1.4044706425570492\n",
      "Test MAE: 1.3855232358698646\n"
     ]
    }
   ],
   "source": [
    "evaluate(dl_cnn_model, (X_train, y_train), (X_test, y_test))"
   ]
  },
  {
   "cell_type": "code",
   "execution_count": 28,
   "metadata": {},
   "outputs": [
    {
     "data": {
      "text/plain": [
       "[Text(0.5, 1.0, 'Epoch vs Loss'),\n",
       " Text(0.5, 0, 'Epoch'),\n",
       " Text(0, 0.5, 'Loss (MAE)')]"
      ]
     },
     "execution_count": 28,
     "metadata": {},
     "output_type": "execute_result"
    },
    {
     "data": {
      "image/png": "[encoded data removed]",
      "text/plain": [
       "<Figure size 640x480 with 1 Axes>"
      ]
     },
     "metadata": {},
     "output_type": "display_data"
    }
   ],
   "source": [
    "axs = plt.axes()\n",
    "axs.plot(history.history['loss'], label = 'train-loss')\n",
    "axs.plot(history.history['val_loss'], label = 'val-loss')\n",
    "axs.set(title = 'Epoch vs Loss', xlabel = 'Epoch', ylabel = 'Loss (MAE)')"
   ]
  },
  {
   "attachments": {},
   "cell_type": "markdown",
   "metadata": {},
   "source": [
    "## Predict on Test Unseen"
   ]
  },
  {
   "cell_type": "code",
   "execution_count": 29,
   "metadata": {},
   "outputs": [],
   "source": [
    "X_test_unseen = test_df.copy()\n",
    "X_test_unseen.columns = features\n",
    "\n",
    "X_test_unseen[sex_columns] = oh_encoder.transform(X_test_unseen[['sex']]).toarray()\n",
    "X_test_unseen = X_test_unseen.drop('sex', axis = 1)\n",
    "\n",
    "X_test_unseen[columns_to_scale] = scaler.transform(X_test_unseen[columns_to_scale])\n",
    "\n",
    "# Deep CNN Transformation input\n",
    "X_test_unseen_reshaped = X_test_unseen.to_numpy().reshape(-1, 10, 1)"
   ]
  },
  {
   "cell_type": "code",
   "execution_count": 30,
   "metadata": {},
   "outputs": [],
   "source": [
    "from datetime import datetime\n",
    "\n",
    "model = hgbr_1\n",
    "model_name = \"hgbr_1\"\n",
    "\n",
    "now = datetime.now().strftime(\"%Y%m%d_%H%M%S\")\n",
    "\n",
    "output = pd.read_csv(\"../data/input/sample_submission.csv\", index_col=0)\n",
    "output['Age'] = model.predict(X_test_unseen)\n",
    "\n",
    "# output.to_csv(f\"../data/output/crab_age_{model_name}_{now}.csv\", index=True)"
   ]
  }
 ],
 "metadata": {
  "kernelspec": {
   "display_name": "venv",
   "language": "python",
   "name": "python3"
  },
  "language_info": {
   "codemirror_mode": {
    "name": "ipython",
    "version": 3
   },
   "file_extension": ".py",
   "mimetype": "text/x-python",
   "name": "python",
   "nbconvert_exporter": "python",
   "pygments_lexer": "ipython3",
   "version": "3.9.16"
  },
  "orig_nbformat": 4
 },
 "nbformat": 4,
 "nbformat_minor": 2
}
