{
 "cells": [
  {
   "cell_type": "code",
   "execution_count": 232,
   "metadata": {},
   "outputs": [],
   "source": [
    "# imports\n",
    "\n",
    "import pandas as pd\n",
    "import numpy as np\n",
    "\n",
    "from sklearn.model_selection import train_test_split\n",
    "from sklearn.metrics import mean_absolute_error\n",
    "from sklearn.linear_model import LinearRegression\n",
    "\n",
    "import matplotlib.pyplot as plt"
   ]
  },
  {
   "cell_type": "code",
   "execution_count": 233,
   "metadata": {},
   "outputs": [],
   "source": [
    "# train_df = pd.read_csv(\"../data/transformed/train_outliers_removed.csv\", index_col=0)\n",
    "train_df = pd.read_csv(\"../data/transformed/train_outliers_removed.csv\", index_col=0)\n",
    "original_df = pd.read_csv(\"../data/transformed/original_outliers_removed.csv\")\n",
    "test_df = pd.read_csv(\"../data/input/test.csv\", index_col=0)\n",
    "\n",
    "train_df['source'] = 'train'\n",
    "original_df['source'] = 'original'\n",
    "\n",
    "# train_df = train_df[train_df.age > 2]"
   ]
  },
  {
   "cell_type": "code",
   "execution_count": 234,
   "metadata": {},
   "outputs": [],
   "source": [
    "# Handling duplicates\n",
    "cols = [\"length\", \"diameter\", \"height\", \"weight\", \"shucked_weight\", \"viscera_weight\", \"shell_weight\", \"age\"]\n",
    "\n",
    "df = pd.concat([train_df, original_df])\n",
    "\n",
    "grp = df.groupby(cols)['source']\n",
    "\n",
    "df['source_cnt'] = grp.transform(lambda x: len(set(x)))"
   ]
  },
  {
   "cell_type": "code",
   "execution_count": 235,
   "metadata": {},
   "outputs": [
    {
     "data": {
      "text/plain": [
       "162"
      ]
     },
     "execution_count": 235,
     "metadata": {},
     "output_type": "execute_result"
    }
   ],
   "source": [
    "# Records exists in both train and original\n",
    "unique_records = df[df['source_cnt'] == 1]\n",
    "records_to_keep_from_dups = df[(df['source_cnt'] > 1) & (df['source'] == 'original')]\n",
    "\n",
    "\n",
    "unique_df = pd.concat([unique_records, records_to_keep_from_dups])\n",
    "\n",
    "df.shape[0] - unique_df.shape[0]"
   ]
  },
  {
   "cell_type": "code",
   "execution_count": 236,
   "metadata": {},
   "outputs": [],
   "source": [
    "grp1 = unique_df.groupby(cols)['sex']\n",
    "\n",
    "unique_df['sex_cnt'] = grp1.transform(lambda x: len(set(x)))"
   ]
  },
  {
   "cell_type": "code",
   "execution_count": 237,
   "metadata": {},
   "outputs": [],
   "source": [
    "unique_df1 = unique_df[(unique_df['sex_cnt'] == 1)]\n",
    "\n",
    "unique_df1 = unique_df1.drop('source', axis = 1)"
   ]
  },
  {
   "cell_type": "code",
   "execution_count": 238,
   "metadata": {},
   "outputs": [
    {
     "data": {
      "text/plain": [
       "267"
      ]
     },
     "execution_count": 238,
     "metadata": {},
     "output_type": "execute_result"
    }
   ],
   "source": [
    "df.shape[0] - unique_df1.shape[0]"
   ]
  },
  {
   "attachments": {},
   "cell_type": "markdown",
   "metadata": {},
   "source": [
    "## Train Test Split"
   ]
  },
  {
   "cell_type": "code",
   "execution_count": 239,
   "metadata": {},
   "outputs": [],
   "source": [
    "df = unique_df1.copy()\n",
    "\n",
    "target = 'age'\n",
    "features = df.columns.drop(target).tolist()\n",
    "\n",
    "X = df[features]\n",
    "y = df[target]\n",
    "\n",
    "X_train, X_test, y_train, y_test = train_test_split(X, y, test_size=0.2, random_state=1)"
   ]
  },
  {
   "attachments": {},
   "cell_type": "markdown",
   "metadata": {},
   "source": [
    "## Feature Engineering"
   ]
  },
  {
   "attachments": {},
   "cell_type": "markdown",
   "metadata": {},
   "source": [
    "#### Encode sex values"
   ]
  },
  {
   "cell_type": "code",
   "execution_count": 240,
   "metadata": {},
   "outputs": [],
   "source": [
    "from sklearn.preprocessing import OneHotEncoder\n",
    "\n",
    "oh_encoder = OneHotEncoder(sparse_output=True, dtype='int')\n",
    "oh_encoder.fit(X_train[['sex']])\n",
    "\n",
    "sex_columns = [\"sex\" + \"_\" + col for col in oh_encoder.categories_[0]]\n",
    "\n",
    "X_train[sex_columns] = oh_encoder.transform(X_train[['sex']]).toarray()\n",
    "X_train = X_train.drop('sex', axis = 1)\n",
    "\n",
    "X_test[sex_columns] = oh_encoder.transform(X_test[['sex']]).toarray()\n",
    "X_test = X_test.drop('sex', axis = 1)"
   ]
  },
  {
   "attachments": {},
   "cell_type": "markdown",
   "metadata": {},
   "source": [
    "#### Feature Scaling"
   ]
  },
  {
   "cell_type": "code",
   "execution_count": 241,
   "metadata": {},
   "outputs": [],
   "source": [
    "from sklearn.preprocessing import RobustScaler\n",
    "\n",
    "columns_to_scale = ['length', 'diameter', 'height', 'weight', 'shucked_weight', 'viscera_weight', 'shell_weight']\n",
    "\n",
    "scaler = RobustScaler()\n",
    "scaler.fit(X_train[columns_to_scale])\n",
    "\n",
    "\n",
    "X_train[columns_to_scale] = scaler.transform(X_train[columns_to_scale])\n",
    "X_test[columns_to_scale] = scaler.transform(X_test[columns_to_scale])"
   ]
  },
  {
   "attachments": {},
   "cell_type": "markdown",
   "metadata": {},
   "source": [
    "## Modelling"
   ]
  },
  {
   "cell_type": "code",
   "execution_count": 242,
   "metadata": {},
   "outputs": [],
   "source": [
    "def evaluate(model, train, test):    \n",
    "    X_train, y_train = train\n",
    "    X_test, y_test = test\n",
    "    \n",
    "    y_train_predicted = model.predict(X_train)\n",
    "    y_test_predicted = model.predict(X_test)\n",
    "\n",
    "    train_mae = mean_absolute_error(y_train, y_train_predicted)\n",
    "    test_mae = mean_absolute_error(y_test, y_test_predicted)\n",
    "\n",
    "    print(f\"Train MAE: {train_mae}\")\n",
    "    print(f\"Test MAE: {test_mae}\")"
   ]
  },
  {
   "attachments": {},
   "cell_type": "markdown",
   "metadata": {},
   "source": [
    "### Baseline Model (Without additional Feature Engineering)"
   ]
  },
  {
   "cell_type": "code",
   "execution_count": 243,
   "metadata": {},
   "outputs": [
    {
     "name": "stdout",
     "output_type": "stream",
     "text": [
      "Train MAE: 1.413025905088535\n",
      "Test MAE: 1.4204740968676537\n"
     ]
    }
   ],
   "source": [
    "from sklearn.ensemble import RandomForestRegressor\n",
    "\n",
    "rfr = RandomForestRegressor(max_leaf_nodes=90)\n",
    "\n",
    "rfr.fit(X_train, y_train)\n",
    "\n",
    "evaluate(rfr, (X_train, y_train), (X_test, y_test))"
   ]
  },
  {
   "attachments": {},
   "cell_type": "markdown",
   "metadata": {},
   "source": [
    "## Predict on Test Unseen"
   ]
  },
  {
   "cell_type": "code",
   "execution_count": 244,
   "metadata": {},
   "outputs": [
    {
     "ename": "ValueError",
     "evalue": "Length mismatch: Expected axis has 8 elements, new values have 10 elements",
     "output_type": "error",
     "traceback": [
      "\u001b[1;31m---------------------------------------------------------------------------\u001b[0m",
      "\u001b[1;31mValueError\u001b[0m                                Traceback (most recent call last)",
      "Cell \u001b[1;32mIn[244], line 2\u001b[0m\n\u001b[0;32m      1\u001b[0m X_test_unseen \u001b[39m=\u001b[39m test_df\u001b[39m.\u001b[39mcopy()\n\u001b[1;32m----> 2\u001b[0m X_test_unseen\u001b[39m.\u001b[39;49mcolumns \u001b[39m=\u001b[39m features\n\u001b[0;32m      4\u001b[0m X_test_unseen[sex_columns] \u001b[39m=\u001b[39m oh_encoder\u001b[39m.\u001b[39mtransform(X_test_unseen[[\u001b[39m'\u001b[39m\u001b[39msex\u001b[39m\u001b[39m'\u001b[39m]])\u001b[39m.\u001b[39mtoarray()\n\u001b[0;32m      5\u001b[0m X_test_unseen \u001b[39m=\u001b[39m X_test_unseen\u001b[39m.\u001b[39mdrop(\u001b[39m'\u001b[39m\u001b[39msex\u001b[39m\u001b[39m'\u001b[39m, axis \u001b[39m=\u001b[39m \u001b[39m1\u001b[39m)\n",
      "File \u001b[1;32mc:\\Users\\Kishan\\PycharmProjects\\kaggle-competitions\\venv\\lib\\site-packages\\pandas\\core\\generic.py:6002\u001b[0m, in \u001b[0;36mNDFrame.__setattr__\u001b[1;34m(self, name, value)\u001b[0m\n\u001b[0;32m   6000\u001b[0m \u001b[39mtry\u001b[39;00m:\n\u001b[0;32m   6001\u001b[0m     \u001b[39mobject\u001b[39m\u001b[39m.\u001b[39m\u001b[39m__getattribute__\u001b[39m(\u001b[39mself\u001b[39m, name)\n\u001b[1;32m-> 6002\u001b[0m     \u001b[39mreturn\u001b[39;00m \u001b[39mobject\u001b[39;49m\u001b[39m.\u001b[39;49m\u001b[39m__setattr__\u001b[39;49m(\u001b[39mself\u001b[39;49m, name, value)\n\u001b[0;32m   6003\u001b[0m \u001b[39mexcept\u001b[39;00m \u001b[39mAttributeError\u001b[39;00m:\n\u001b[0;32m   6004\u001b[0m     \u001b[39mpass\u001b[39;00m\n",
      "File \u001b[1;32mc:\\Users\\Kishan\\PycharmProjects\\kaggle-competitions\\venv\\lib\\site-packages\\pandas\\_libs\\properties.pyx:69\u001b[0m, in \u001b[0;36mpandas._libs.properties.AxisProperty.__set__\u001b[1;34m()\u001b[0m\n",
      "File \u001b[1;32mc:\\Users\\Kishan\\PycharmProjects\\kaggle-competitions\\venv\\lib\\site-packages\\pandas\\core\\generic.py:730\u001b[0m, in \u001b[0;36mNDFrame._set_axis\u001b[1;34m(self, axis, labels)\u001b[0m\n\u001b[0;32m    725\u001b[0m \u001b[39m\u001b[39m\u001b[39m\"\"\"\u001b[39;00m\n\u001b[0;32m    726\u001b[0m \u001b[39mThis is called from the cython code when we set the `index` attribute\u001b[39;00m\n\u001b[0;32m    727\u001b[0m \u001b[39mdirectly, e.g. `series.index = [1, 2, 3]`.\u001b[39;00m\n\u001b[0;32m    728\u001b[0m \u001b[39m\"\"\"\u001b[39;00m\n\u001b[0;32m    729\u001b[0m labels \u001b[39m=\u001b[39m ensure_index(labels)\n\u001b[1;32m--> 730\u001b[0m \u001b[39mself\u001b[39;49m\u001b[39m.\u001b[39;49m_mgr\u001b[39m.\u001b[39;49mset_axis(axis, labels)\n\u001b[0;32m    731\u001b[0m \u001b[39mself\u001b[39m\u001b[39m.\u001b[39m_clear_item_cache()\n",
      "File \u001b[1;32mc:\\Users\\Kishan\\PycharmProjects\\kaggle-competitions\\venv\\lib\\site-packages\\pandas\\core\\internals\\managers.py:225\u001b[0m, in \u001b[0;36mBaseBlockManager.set_axis\u001b[1;34m(self, axis, new_labels)\u001b[0m\n\u001b[0;32m    223\u001b[0m \u001b[39mdef\u001b[39;00m \u001b[39mset_axis\u001b[39m(\u001b[39mself\u001b[39m, axis: AxisInt, new_labels: Index) \u001b[39m-\u001b[39m\u001b[39m>\u001b[39m \u001b[39mNone\u001b[39;00m:\n\u001b[0;32m    224\u001b[0m     \u001b[39m# Caller is responsible for ensuring we have an Index object.\u001b[39;00m\n\u001b[1;32m--> 225\u001b[0m     \u001b[39mself\u001b[39;49m\u001b[39m.\u001b[39;49m_validate_set_axis(axis, new_labels)\n\u001b[0;32m    226\u001b[0m     \u001b[39mself\u001b[39m\u001b[39m.\u001b[39maxes[axis] \u001b[39m=\u001b[39m new_labels\n",
      "File \u001b[1;32mc:\\Users\\Kishan\\PycharmProjects\\kaggle-competitions\\venv\\lib\\site-packages\\pandas\\core\\internals\\base.py:70\u001b[0m, in \u001b[0;36mDataManager._validate_set_axis\u001b[1;34m(self, axis, new_labels)\u001b[0m\n\u001b[0;32m     67\u001b[0m     \u001b[39mpass\u001b[39;00m\n\u001b[0;32m     69\u001b[0m \u001b[39melif\u001b[39;00m new_len \u001b[39m!=\u001b[39m old_len:\n\u001b[1;32m---> 70\u001b[0m     \u001b[39mraise\u001b[39;00m \u001b[39mValueError\u001b[39;00m(\n\u001b[0;32m     71\u001b[0m         \u001b[39mf\u001b[39m\u001b[39m\"\u001b[39m\u001b[39mLength mismatch: Expected axis has \u001b[39m\u001b[39m{\u001b[39;00mold_len\u001b[39m}\u001b[39;00m\u001b[39m elements, new \u001b[39m\u001b[39m\"\u001b[39m\n\u001b[0;32m     72\u001b[0m         \u001b[39mf\u001b[39m\u001b[39m\"\u001b[39m\u001b[39mvalues have \u001b[39m\u001b[39m{\u001b[39;00mnew_len\u001b[39m}\u001b[39;00m\u001b[39m elements\u001b[39m\u001b[39m\"\u001b[39m\n\u001b[0;32m     73\u001b[0m     )\n",
      "\u001b[1;31mValueError\u001b[0m: Length mismatch: Expected axis has 8 elements, new values have 10 elements"
     ]
    }
   ],
   "source": [
    "X_test_unseen = test_df.copy()\n",
    "X_test_unseen.columns = features\n",
    "\n",
    "X_test_unseen[sex_columns] = oh_encoder.transform(X_test_unseen[['sex']]).toarray()\n",
    "X_test_unseen = X_test_unseen.drop('sex', axis = 1)\n",
    "\n",
    "X_test_unseen[columns_to_scale] = scaler.transform(X_test_unseen[columns_to_scale])"
   ]
  },
  {
   "cell_type": "code",
   "execution_count": null,
   "metadata": {},
   "outputs": [],
   "source": [
    "from datetime import datetime\n",
    "\n",
    "model = rfr\n",
    "model_name = \"random_forest_regressor\"\n",
    "\n",
    "now = datetime.now().strftime(\"%Y%m%d_%H%M%S\")\n",
    "\n",
    "output = pd.read_csv(\"../data/input/sample_submission.csv\", index_col=0)\n",
    "output['Age'] = model.predict(X_test_unseen)\n",
    "\n",
    "# output.to_csv(f\"../data/output/crab_age_regressor_{now}.csv\", index=True)"
   ]
  }
 ],
 "metadata": {
  "kernelspec": {
   "display_name": "venv",
   "language": "python",
   "name": "python3"
  },
  "language_info": {
   "codemirror_mode": {
    "name": "ipython",
    "version": 3
   },
   "file_extension": ".py",
   "mimetype": "text/x-python",
   "name": "python",
   "nbconvert_exporter": "python",
   "pygments_lexer": "ipython3",
   "version": "3.9.16"
  },
  "orig_nbformat": 4
 },
 "nbformat": 4,
 "nbformat_minor": 2
}
