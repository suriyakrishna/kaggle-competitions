{
 "cells": [
  {
   "attachments": {},
   "cell_type": "markdown",
   "metadata": {},
   "source": [
    "# Classification with a Tabular Vector Borne Disease Dataset\n",
    "\n",
    "[Follow Here](https://www.kaggle.com/competitions/playground-series-s3e13/overview)"
   ]
  },
  {
   "cell_type": "code",
   "execution_count": null,
   "metadata": {},
   "outputs": [],
   "source": [
    "# imports\n",
    "import pandas as pd\n",
    "import numpy as np\n",
    "import matplotlib.pyplot as plt"
   ]
  },
  {
   "attachments": {},
   "cell_type": "markdown",
   "metadata": {},
   "source": [
    "## Explore Dataset"
   ]
  },
  {
   "attachments": {},
   "cell_type": "markdown",
   "metadata": {},
   "source": [
    "### Read Dataset "
   ]
  },
  {
   "cell_type": "code",
   "execution_count": null,
   "metadata": {},
   "outputs": [],
   "source": [
    "data_path = './data/input/'\n",
    "train_df = pd.read_csv(data_path + 'train.csv', index_col=0)\n",
    "test_df = pd.read_csv(data_path + 'test.csv', index_col=0)"
   ]
  },
  {
   "attachments": {},
   "cell_type": "markdown",
   "metadata": {},
   "source": [
    "### Investigate Datatype\n",
    "\n",
    "*All columns are of numerical datatype and except the target column prognosis. prognosis column should be encoded to numerical value.*"
   ]
  },
  {
   "cell_type": "code",
   "execution_count": null,
   "metadata": {},
   "outputs": [],
   "source": [
    "for column, t in zip(train_df.columns, train_df.dtypes):\n",
    "    print(column, t)"
   ]
  },
  {
   "cell_type": "code",
   "execution_count": null,
   "metadata": {},
   "outputs": [],
   "source": [
    "for column, t in zip(test_df.columns, test_df.dtypes):\n",
    "    print(column, t)"
   ]
  },
  {
   "attachments": {},
   "cell_type": "markdown",
   "metadata": {},
   "source": [
    "### Check for missing values\n",
    "\n",
    "*No missing values*"
   ]
  },
  {
   "cell_type": "code",
   "execution_count": null,
   "metadata": {},
   "outputs": [],
   "source": [
    "for column, count in zip(train_df.columns, train_df.isna().sum()):\n",
    "    if count > 0:\n",
    "        print(f\"{column}, {count}\")"
   ]
  },
  {
   "cell_type": "code",
   "execution_count": null,
   "metadata": {},
   "outputs": [],
   "source": [
    "for column, count in zip(test_df.columns, test_df.isna().sum()):\n",
    "    if count > 0:\n",
    "        print(f\"{column}, {count}\")"
   ]
  },
  {
   "attachments": {},
   "cell_type": "markdown",
   "metadata": {},
   "source": [
    "### Summary Satistics\n",
    "\n",
    "\n",
    "**Target class:** *Almost equally Distributed*\n",
    "\n",
    "**Normalization:** *Features values are normalized as part of input dataset*"
   ]
  },
  {
   "cell_type": "code",
   "execution_count": null,
   "metadata": {},
   "outputs": [],
   "source": [
    "count = train_df['prognosis'].value_counts()\n",
    "cols = count.index\n",
    "\n",
    "target_class_ratio = pd.DataFrame(data = {\n",
    "    'count': count , \n",
    "    'ratio' : round(count/len(train_df), 2)\n",
    "    })\n",
    "\n",
    "target_class_ratio"
   ]
  },
  {
   "attachments": {},
   "cell_type": "markdown",
   "metadata": {},
   "source": [
    "## Train Test Split and Encode Label Values"
   ]
  },
  {
   "cell_type": "code",
   "execution_count": 72,
   "metadata": {},
   "outputs": [
    {
     "name": "stdout",
     "output_type": "stream",
     "text": [
      "Labels: ['Chikungunya' 'Dengue' 'Japanese_encephalitis' 'Lyme_disease' 'Malaria'\n",
      " 'Plague' 'Rift_Valley_fever' 'Tungiasis' 'West_Nile_fever' 'Yellow_Fever'\n",
      " 'Zika']\n"
     ]
    }
   ],
   "source": [
    "from sklearn.model_selection import train_test_split\n",
    "from sklearn.preprocessing import LabelEncoder\n",
    "\n",
    "X = train_df.iloc[:, :-1]\n",
    "y = train_df.iloc[:, -1]\n",
    "\n",
    "X_train, X_test, y_train, y_test = train_test_split(X, y, train_size=0.8, random_state=42)\n",
    "\n",
    "# create label encoder and fit on train data\n",
    "label_encoder = LabelEncoder()\n",
    "label_encoder.fit(y_train)\n",
    "\n",
    "print(f\"Labels: {label_encoder.classes_}\")\n",
    "\n",
    "# encode labels\n",
    "y_train = label_encoder.transform(y_train)\n",
    "y_test = label_encoder.transform(y_test)\n",
    "\n",
    "\n",
    "\n",
    "\n",
    "X_train = np.concatenate([X_train.astype('int').values, X_test.astype('int').values])\n",
    "y_train = np.concatenate([y_train, y_test])"
   ]
  },
  {
   "attachments": {},
   "cell_type": "markdown",
   "metadata": {},
   "source": [
    "## Plot"
   ]
  },
  {
   "attachments": {},
   "cell_type": "markdown",
   "metadata": {},
   "source": [
    "### Distributions and Outliers"
   ]
  },
  {
   "cell_type": "code",
   "execution_count": 74,
   "metadata": {},
   "outputs": [],
   "source": [
    "# X_train.iloc[:, :10].plot.density() # bimodal (2 peaks)"
   ]
  },
  {
   "attachments": {},
   "cell_type": "markdown",
   "metadata": {},
   "source": [
    "## Model Training and Evaluation"
   ]
  },
  {
   "cell_type": "code",
   "execution_count": 75,
   "metadata": {},
   "outputs": [
    {
     "data": {
      "text/plain": [
       "array([[0.06379669, 0.05392881, 0.14427276, ..., 0.16941133, 0.09180573,\n",
       "        0.04783999],\n",
       "       [0.09465061, 0.15400003, 0.11380409, ..., 0.12249598, 0.06643938,\n",
       "        0.07156207],\n",
       "       [0.09986951, 0.06366361, 0.13739016, ..., 0.16754708, 0.06779492,\n",
       "        0.10065499],\n",
       "       ...,\n",
       "       [0.08427032, 0.16166076, 0.08366949, ..., 0.19848027, 0.05559978,\n",
       "        0.04711189],\n",
       "       [0.04783794, 0.12309954, 0.07998544, ..., 0.06689857, 0.0455477 ,\n",
       "        0.04094485],\n",
       "       [0.048749  , 0.04262374, 0.08006004, ..., 0.14178351, 0.10332326,\n",
       "        0.10570539]])"
      ]
     },
     "execution_count": 75,
     "metadata": {},
     "output_type": "execute_result"
    }
   ],
   "source": [
    "from sklearn.ensemble import GradientBoostingClassifier\n",
    "from sklearn.metrics import average_precision_score\n",
    "\n",
    "lr = GradientBoostingClassifier(n_estimators=60, learning_rate=0.01, validation_fraction=0.2)\n",
    "\n",
    "lr.fit(X_train, y_train)\n",
    "\n",
    "lr.predict_proba(X_train)\n"
   ]
  },
  {
   "cell_type": "code",
   "execution_count": 76,
   "metadata": {},
   "outputs": [],
   "source": [
    "def get_labels(model, X):\n",
    "    y_prob = model.predict_proba(X)\n",
    "    y_prob_top_3 = y_prob.argsort()[:,:3]\n",
    "    result = label_encoder.inverse_transform(y_prob_top_3.reshape(-1, 1)).reshape(-1, 3)\n",
    "    df = pd.DataFrame(result)\n",
    "    df['predictions'] = df.iloc[:, 0] + ' ' + df.iloc[:, 1] + ' ' + df.iloc[:, 2]\n",
    "    return df['predictions']\n",
    "\n",
    "# lbs = get_labels(model, X_test)"
   ]
  },
  {
   "cell_type": "code",
   "execution_count": 77,
   "metadata": {},
   "outputs": [
    {
     "name": "stderr",
     "output_type": "stream",
     "text": [
      "c:\\Users\\Kishan\\PycharmProjects\\kaggle-competitions\\venv\\lib\\site-packages\\sklearn\\base.py:432: UserWarning: X has feature names, but GradientBoostingClassifier was fitted without feature names\n",
      "  warnings.warn(\n",
      "c:\\Users\\Kishan\\PycharmProjects\\kaggle-competitions\\venv\\lib\\site-packages\\sklearn\\preprocessing\\_label.py:155: DataConversionWarning: A column-vector y was passed when a 1d array was expected. Please change the shape of y to (n_samples, ), for example using ravel().\n",
      "  y = column_or_1d(y, warn=True)\n"
     ]
    }
   ],
   "source": [
    "test_out = get_labels(lr, test_df)"
   ]
  },
  {
   "cell_type": "code",
   "execution_count": 78,
   "metadata": {},
   "outputs": [
    {
     "data": {
      "text/plain": [
       "array(['Malaria Lyme_disease Yellow_Fever', 'Lyme_disease Zika Plague',\n",
       "       'Malaria Dengue Plague', 'Lyme_disease Plague Tungiasis',\n",
       "       'Dengue Chikungunya Rift_Valley_fever',\n",
       "       'Dengue Chikungunya Rift_Valley_fever',\n",
       "       'Lyme_disease Dengue Chikungunya', 'Lyme_disease Malaria Zika',\n",
       "       'Lyme_disease Dengue Chikungunya',\n",
       "       'Dengue Chikungunya Lyme_disease', 'Malaria Zika Lyme_disease',\n",
       "       'Malaria Yellow_Fever Zika', 'Zika Malaria Plague',\n",
       "       'Lyme_disease Plague Zika', 'Dengue Malaria Lyme_disease',\n",
       "       'Malaria Lyme_disease Dengue', 'Malaria Lyme_disease Chikungunya',\n",
       "       'Malaria Lyme_disease Plague', 'Lyme_disease Zika Malaria',\n",
       "       'Malaria Dengue Chikungunya', 'Zika Tungiasis Rift_Valley_fever',\n",
       "       'Lyme_disease Dengue Malaria', 'Dengue Zika Tungiasis',\n",
       "       'Dengue Zika Chikungunya', 'Zika Plague Lyme_disease',\n",
       "       'Lyme_disease Zika Malaria', 'Malaria Lyme_disease Zika',\n",
       "       'Lyme_disease Chikungunya Malaria', 'Chikungunya Tungiasis Dengue',\n",
       "       'Chikungunya Plague Dengue', 'Chikungunya Tungiasis Dengue',\n",
       "       'Plague Malaria Lyme_disease', 'Zika Dengue Plague',\n",
       "       'Dengue Chikungunya Rift_Valley_fever',\n",
       "       'Chikungunya Zika Tungiasis', 'Dengue Rift_Valley_fever Malaria',\n",
       "       'Malaria Dengue Plague', 'Malaria Lyme_disease Dengue',\n",
       "       'Malaria Yellow_Fever Dengue', 'Zika Plague Tungiasis',\n",
       "       'Yellow_Fever Tungiasis Chikungunya', 'Lyme_disease Zika Plague',\n",
       "       'Lyme_disease Dengue Chikungunya', 'Malaria Dengue Chikungunya',\n",
       "       'Malaria Lyme_disease Zika', 'Malaria Plague Chikungunya',\n",
       "       'Lyme_disease Zika Malaria', 'Dengue Chikungunya Yellow_Fever',\n",
       "       'Lyme_disease Dengue Chikungunya', 'Malaria Plague Lyme_disease',\n",
       "       'Plague Lyme_disease Dengue', 'Malaria Plague Chikungunya',\n",
       "       'Chikungunya Dengue Tungiasis', 'Dengue Lyme_disease Chikungunya',\n",
       "       'Plague Zika Lyme_disease', 'Dengue Yellow_Fever Chikungunya',\n",
       "       'Plague Malaria Yellow_Fever', 'Lyme_disease Zika Malaria',\n",
       "       'Plague Zika Yellow_Fever', 'Lyme_disease Plague Chikungunya',\n",
       "       'Dengue Chikungunya Tungiasis', 'Dengue Chikungunya Malaria',\n",
       "       'Dengue Rift_Valley_fever Tungiasis', 'Lyme_disease Zika Malaria',\n",
       "       'Lyme_disease Plague Zika', 'Dengue Malaria Chikungunya',\n",
       "       'Malaria Lyme_disease Chikungunya', 'Malaria Chikungunya Dengue',\n",
       "       'Lyme_disease Malaria Zika', 'Lyme_disease Zika Malaria',\n",
       "       'Malaria Zika Chikungunya', 'Plague Dengue Malaria',\n",
       "       'Zika Dengue Tungiasis', 'Plague Lyme_disease Malaria',\n",
       "       'Dengue Malaria Tungiasis', 'Lyme_disease Malaria Zika',\n",
       "       'Chikungunya Tungiasis Lyme_disease',\n",
       "       'Malaria Lyme_disease Yellow_Fever',\n",
       "       'Lyme_disease Malaria Tungiasis', 'Zika Dengue Chikungunya',\n",
       "       'Malaria Dengue Chikungunya', 'Dengue Lyme_disease Chikungunya',\n",
       "       'Lyme_disease Dengue Chikungunya', 'Dengue Plague Lyme_disease',\n",
       "       'Malaria Lyme_disease Zika', 'Zika Yellow_Fever Chikungunya',\n",
       "       'Dengue Chikungunya Zika', 'Lyme_disease Zika Malaria',\n",
       "       'Lyme_disease Malaria Yellow_Fever',\n",
       "       'Dengue Chikungunya Tungiasis',\n",
       "       'Chikungunya Yellow_Fever Tungiasis',\n",
       "       'Lyme_disease Zika Yellow_Fever', 'Malaria Lyme_disease Dengue',\n",
       "       'Malaria Lyme_disease Plague', 'Lyme_disease Chikungunya Zika',\n",
       "       'Malaria Zika Plague', 'Chikungunya Malaria Dengue',\n",
       "       'Malaria Dengue Yellow_Fever', 'Malaria Chikungunya Dengue',\n",
       "       'Malaria Dengue Chikungunya', 'Lyme_disease Chikungunya Zika',\n",
       "       'Plague Zika Yellow_Fever', 'Zika Plague Chikungunya',\n",
       "       'Malaria Chikungunya Plague', 'Lyme_disease Plague Malaria',\n",
       "       'Lyme_disease Zika Malaria', 'Plague Lyme_disease Dengue',\n",
       "       'Malaria Lyme_disease Zika', 'Lyme_disease Dengue Zika',\n",
       "       'Zika Dengue Rift_Valley_fever', 'Malaria Dengue Lyme_disease',\n",
       "       'Malaria Yellow_Fever Lyme_disease',\n",
       "       'Lyme_disease Dengue Chikungunya', 'Lyme_disease Malaria Zika',\n",
       "       'Dengue Malaria Rift_Valley_fever', 'Plague Lyme_disease Malaria',\n",
       "       'Dengue Lyme_disease Chikungunya', 'Lyme_disease Zika Malaria',\n",
       "       'Malaria Zika Plague', 'Malaria Plague Zika',\n",
       "       'Malaria Chikungunya Tungiasis', 'Lyme_disease Malaria Plague',\n",
       "       'Chikungunya Dengue Plague', 'Chikungunya Zika Tungiasis',\n",
       "       'Malaria Zika Yellow_Fever', 'Lyme_disease Malaria Dengue',\n",
       "       'Malaria Lyme_disease Plague', 'Lyme_disease Yellow_Fever Dengue',\n",
       "       'Lyme_disease Malaria Zika', 'Lyme_disease Plague Malaria',\n",
       "       'Dengue Chikungunya Rift_Valley_fever',\n",
       "       'Lyme_disease Zika Malaria', 'Malaria Lyme_disease Tungiasis',\n",
       "       'Dengue Chikungunya Zika', 'Lyme_disease Dengue Malaria',\n",
       "       'Dengue Chikungunya Yellow_Fever', 'Malaria Plague Lyme_disease',\n",
       "       'Lyme_disease Malaria Zika', 'Malaria Lyme_disease Plague',\n",
       "       'Lyme_disease Malaria Zika', 'Dengue Lyme_disease Chikungunya',\n",
       "       'Plague Dengue Malaria', 'Chikungunya Lyme_disease Zika',\n",
       "       'Plague Zika Tungiasis', 'Plague Tungiasis Chikungunya',\n",
       "       'Lyme_disease Zika Malaria', 'Lyme_disease Plague Zika',\n",
       "       'Chikungunya Zika Tungiasis', 'Malaria Chikungunya Tungiasis',\n",
       "       'Lyme_disease Malaria Chikungunya',\n",
       "       'Lyme_disease Zika Yellow_Fever', 'Malaria Lyme_disease Plague',\n",
       "       'Dengue Plague Zika', 'Dengue Malaria Lyme_disease',\n",
       "       'Lyme_disease Plague Zika', 'Zika Dengue Chikungunya',\n",
       "       'Lyme_disease Plague Malaria', 'Malaria Lyme_disease Zika',\n",
       "       'Tungiasis Lyme_disease Malaria', 'Lyme_disease Zika Plague',\n",
       "       'Dengue Chikungunya Yellow_Fever', 'Lyme_disease Zika Malaria',\n",
       "       'Lyme_disease Dengue Chikungunya', 'Lyme_disease Plague Zika',\n",
       "       'Lyme_disease Malaria Zika', 'Dengue Chikungunya Tungiasis',\n",
       "       'Zika Dengue Plague', 'Lyme_disease Zika Malaria',\n",
       "       'Plague Malaria Zika', 'Lyme_disease Malaria Dengue',\n",
       "       'Malaria Lyme_disease Dengue', 'Dengue Chikungunya Malaria',\n",
       "       'Lyme_disease Malaria Dengue', 'Dengue Chikungunya Tungiasis',\n",
       "       'Malaria Lyme_disease Plague', 'Dengue Chikungunya Plague',\n",
       "       'Lyme_disease Malaria Zika', 'Dengue Chikungunya Tungiasis',\n",
       "       'Malaria Plague Zika', 'Lyme_disease Malaria Yellow_Fever',\n",
       "       'Lyme_disease Zika Plague', 'Malaria Zika Plague',\n",
       "       'Lyme_disease Plague Zika', 'Lyme_disease Tungiasis Chikungunya',\n",
       "       'Malaria Lyme_disease Plague',\n",
       "       'Chikungunya Tungiasis Yellow_Fever',\n",
       "       'Dengue Chikungunya Lyme_disease', 'Lyme_disease Malaria Zika',\n",
       "       'Malaria Lyme_disease Zika', 'Dengue Chikungunya Lyme_disease',\n",
       "       'Chikungunya Dengue Tungiasis', 'Malaria Chikungunya Lyme_disease',\n",
       "       'Zika Plague Rift_Valley_fever', 'Malaria Lyme_disease Dengue',\n",
       "       'Lyme_disease Chikungunya Tungiasis',\n",
       "       'Lyme_disease Dengue Chikungunya', 'Lyme_disease Malaria Dengue',\n",
       "       'Dengue Zika Rift_Valley_fever', 'Malaria Dengue Chikungunya',\n",
       "       'Zika Dengue Chikungunya', 'Plague Malaria Yellow_Fever',\n",
       "       'Malaria Zika Yellow_Fever', 'Lyme_disease Zika Malaria',\n",
       "       'Dengue Chikungunya Rift_Valley_fever', 'Dengue Malaria Tungiasis',\n",
       "       'Lyme_disease Plague Malaria', 'Malaria Dengue Lyme_disease',\n",
       "       'Dengue Tungiasis Chikungunya',\n",
       "       'Dengue Chikungunya Rift_Valley_fever',\n",
       "       'Malaria Plague Lyme_disease', 'Lyme_disease Dengue Chikungunya',\n",
       "       'Malaria Plague Yellow_Fever', 'Zika Lyme_disease Dengue',\n",
       "       'Dengue Rift_Valley_fever Malaria', 'Malaria Lyme_disease Zika',\n",
       "       'Lyme_disease Zika Malaria', 'Lyme_disease Zika Malaria',\n",
       "       'Malaria Lyme_disease Chikungunya', 'Malaria Chikungunya Dengue',\n",
       "       'Yellow_Fever Plague Lyme_disease', 'Dengue Plague Tungiasis',\n",
       "       'Malaria Dengue Lyme_disease', 'Zika Malaria Lyme_disease',\n",
       "       'Dengue Chikungunya Malaria', 'Lyme_disease Plague Zika',\n",
       "       'Chikungunya Lyme_disease Plague', 'Lyme_disease Malaria Plague',\n",
       "       'Dengue Chikungunya Zika', 'Lyme_disease Malaria Plague',\n",
       "       'Chikungunya Malaria Yellow_Fever', 'Dengue Zika Chikungunya',\n",
       "       'Malaria Plague Lyme_disease', 'Malaria Dengue Chikungunya',\n",
       "       'Lyme_disease Zika Malaria', 'Dengue Zika Chikungunya',\n",
       "       'Lyme_disease Malaria Zika', 'Lyme_disease Dengue Malaria',\n",
       "       'Lyme_disease Malaria Dengue', 'Lyme_disease Zika Malaria',\n",
       "       'Lyme_disease Zika Malaria', 'Malaria Lyme_disease Dengue',\n",
       "       'Lyme_disease Zika Yellow_Fever', 'Lyme_disease Zika Malaria',\n",
       "       'Lyme_disease Malaria Dengue', 'Zika Chikungunya Yellow_Fever',\n",
       "       'Lyme_disease Zika Tungiasis', 'Dengue Malaria Plague',\n",
       "       'Zika Malaria Yellow_Fever', 'Malaria Lyme_disease Yellow_Fever',\n",
       "       'Malaria Tungiasis Chikungunya', 'Chikungunya Zika Lyme_disease',\n",
       "       'Lyme_disease Zika Malaria', 'Lyme_disease Malaria Zika',\n",
       "       'Plague Malaria Zika', 'Lyme_disease Zika Plague',\n",
       "       'Lyme_disease Malaria Chikungunya',\n",
       "       'Chikungunya Malaria Tungiasis', 'Malaria Dengue Tungiasis',\n",
       "       'Lyme_disease Dengue Plague',\n",
       "       'Chikungunya Dengue Rift_Valley_fever', 'Dengue Zika Chikungunya',\n",
       "       'Zika Dengue Malaria', 'Lyme_disease Chikungunya Yellow_Fever',\n",
       "       'Malaria Lyme_disease Plague', 'Lyme_disease Malaria Zika',\n",
       "       'Lyme_disease Malaria Dengue', 'Plague Zika Lyme_disease',\n",
       "       'Plague Tungiasis Malaria', 'Dengue Chikungunya Tungiasis',\n",
       "       'Malaria Tungiasis Zika', 'Lyme_disease Plague Tungiasis',\n",
       "       'Chikungunya Lyme_disease Tungiasis', 'Dengue Chikungunya Zika',\n",
       "       'Lyme_disease Malaria Dengue', 'Lyme_disease Malaria Dengue',\n",
       "       'Lyme_disease Tungiasis Dengue', 'Malaria Lyme_disease Zika',\n",
       "       'Dengue Zika Chikungunya', 'Lyme_disease Dengue Zika',\n",
       "       'Lyme_disease Plague Zika', 'Lyme_disease Zika Plague',\n",
       "       'Lyme_disease Plague Malaria', 'Plague Yellow_Fever Malaria',\n",
       "       'Zika Chikungunya Lyme_disease', 'Malaria Lyme_disease Zika',\n",
       "       'Malaria Dengue Chikungunya', 'Dengue Rift_Valley_fever Plague',\n",
       "       'Dengue Zika Tungiasis', 'Malaria Plague Zika',\n",
       "       'Malaria Zika Plague', 'Malaria Lyme_disease Zika',\n",
       "       'Malaria Dengue Lyme_disease', 'Dengue Plague Chikungunya',\n",
       "       'Lyme_disease Zika Malaria', 'Dengue Chikungunya Lyme_disease',\n",
       "       'Lyme_disease Malaria Dengue', 'Lyme_disease Malaria Dengue',\n",
       "       'Chikungunya Lyme_disease Dengue', 'Dengue Lyme_disease Malaria',\n",
       "       'Zika Chikungunya Yellow_Fever', 'Malaria Yellow_Fever Dengue',\n",
       "       'Malaria Lyme_disease Tungiasis', 'Chikungunya Malaria Dengue'],\n",
       "      dtype=object)"
      ]
     },
     "execution_count": 78,
     "metadata": {},
     "output_type": "execute_result"
    }
   ],
   "source": [
    "test_out.values"
   ]
  },
  {
   "cell_type": "code",
   "execution_count": 79,
   "metadata": {},
   "outputs": [],
   "source": [
    "from datetime import datetime\n",
    "\n",
    "now = datetime.now().strftime(\"%Y%m%d_%H%M%S\")\n",
    "\n",
    "output = pd.read_csv('./data/input/sample_submission.csv', index_col=0)\n",
    "output['prognosis'] = test_out.values\n",
    "\n",
    "output.to_csv(f\"./data/output/test_predicted_{now}.csv\", header=True, index=True)"
   ]
  },
  {
   "cell_type": "code",
   "execution_count": null,
   "metadata": {},
   "outputs": [],
   "source": []
  }
 ],
 "metadata": {
  "kernelspec": {
   "display_name": "venv",
   "language": "python",
   "name": "python3"
  },
  "language_info": {
   "codemirror_mode": {
    "name": "ipython",
    "version": 3
   },
   "file_extension": ".py",
   "mimetype": "text/x-python",
   "name": "python",
   "nbconvert_exporter": "python",
   "pygments_lexer": "ipython3",
   "version": "3.9.16"
  },
  "orig_nbformat": 4
 },
 "nbformat": 4,
 "nbformat_minor": 2
}
