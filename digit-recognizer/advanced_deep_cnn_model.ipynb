{
  "cells": [
    {
      "cell_type": "code",
      "execution_count": null,
      "metadata": {
        "id": "uVL8zamLysBz"
      },
      "outputs": [],
      "source": [
        "# imports\n",
        "import numpy as np\n",
        "import matplotlib.pyplot as plt\n",
        "\n",
        "import tensorflow as tf\n",
        "\n",
        "import keras\n",
        "from keras import layers, optimizers, metrics, activations, losses\n",
        "\n",
        "import matplotlib.pyplot as plt"
      ]
    },
    {
      "cell_type": "code",
      "execution_count": null,
      "metadata": {
        "colab": {
          "base_uri": "https://localhost:8080/"
        },
        "id": "y50PbUVpyxUv",
        "outputId": "4768ad58-1001-48e7-86f0-b7e99a5eac44"
      },
      "outputs": [],
      "source": [
        "import os\n",
        "\n",
        "data_path = \"./data/transformed/\"\n",
        "\n",
        "if any([\"COLAB\" in x for x in list(os.environ.keys())]):\n",
        "    from google.colab import drive\n",
        "    drive.mount('/content/drive/')\n",
        "    data_path = r\"/content/drive/MyDrive/Colab Notebooks/digit-recognizer/data/transformed/\""
      ]
    },
    {
      "cell_type": "code",
      "execution_count": null,
      "metadata": {
        "colab": {
          "base_uri": "https://localhost:8080/"
        },
        "id": "95aEtJU8zO3q",
        "outputId": "302cac16-a290-4b65-e827-7a92addbacd7"
      },
      "outputs": [],
      "source": [
        "!ls -R {data_path.replace(\" \", \"\\\\ \")}"
      ]
    },
    {
      "cell_type": "code",
      "execution_count": null,
      "metadata": {
        "id": "B0GnsapVysB3"
      },
      "outputs": [],
      "source": [
        "# Read Preprocessed files\n",
        "train = np.load(f\"{data_path}/train_transformed_20230606_134803.npz\")\n",
        "train_augmented = np.load(f\"{data_path}/augmented/train_augmented_20230606_134915.npz\")\n",
        "\n",
        "test_unseen = np.load(f\"{data_path}/test_unseen_transformed_20230606_134803.npz\")\n",
        "\n",
        "X_train, y_train = train['X'], train['y']\n",
        "X_augmented_train, y_augmented_train = train_augmented['X'], train_augmented['y']\n",
        "X_test_unseen = test_unseen['X']"
      ]
    },
    {
      "cell_type": "code",
      "execution_count": null,
      "metadata": {
        "id": "rmq6Y9c21r-3"
      },
      "outputs": [],
      "source": [
        "# X = np.concatenate([X_train, X_augmented_train])\n",
        "# y = np.concatenate([y_train, y_augmented_train])\n",
        "\n",
        "X = X_train\n",
        "y = y_train, y_augmented_train"
      ]
    },
    {
      "cell_type": "code",
      "execution_count": 48,
      "metadata": {},
      "outputs": [
        {
          "name": "stdout",
          "output_type": "stream",
          "text": [
            "Model: \"model_21\"\n",
            "__________________________________________________________________________________________________\n",
            " Layer (type)                   Output Shape         Param #     Connected to                     \n",
            "==================================================================================================\n",
            " input_41 (InputLayer)          [(None, 24, 24, 1)]  0           []                               \n",
            "                                                                                                  \n",
            " conv2d_34 (Conv2D)             (None, 24, 24, 64)   640         ['input_41[0][0]']               \n",
            "                                                                                                  \n",
            " batch_normalization_13 (BatchN  (None, 24, 24, 64)  256         ['conv2d_34[0][0]']              \n",
            " ormalization)                                                                                    \n",
            "                                                                                                  \n",
            " activation_11 (Activation)     (None, 24, 24, 64)   0           ['batch_normalization_13[0][0]'] \n",
            "                                                                                                  \n",
            " conv2d_35 (Conv2D)             (None, 24, 24, 64)   36928       ['activation_11[0][0]']          \n",
            "                                                                                                  \n",
            " batch_normalization_14 (BatchN  (None, 24, 24, 64)  256         ['conv2d_35[0][0]']              \n",
            " ormalization)                                                                                    \n",
            "                                                                                                  \n",
            " add_5 (Add)                    (None, 24, 24, 64)   0           ['input_41[0][0]',               \n",
            "                                                                  'batch_normalization_14[0][0]'] \n",
            "                                                                                                  \n",
            " activation_10 (Activation)     (None, 24, 24, 64)   0           ['add_5[0][0]']                  \n",
            "                                                                                                  \n",
            "==================================================================================================\n",
            "Total params: 38,080\n",
            "Trainable params: 37,824\n",
            "Non-trainable params: 256\n",
            "__________________________________________________________________________________________________\n"
          ]
        }
      ],
      "source": [
        "from functools import reduce, partial\n",
        "from typing import Any\n",
        "from abc import abstractmethod, ABC\n",
        "\n",
        "class ResNetBlock(ABC):\n",
        "    def __init__(self, filters, kernel_size, strides, padding):\n",
        "        self.filters = filters\n",
        "        self.kernel_size = kernel_size\n",
        "        self.strides = strides\n",
        "        self.padding = padding\n",
        "\n",
        "    @abstractmethod\n",
        "    def _identity(self, inputs, convolved_output):\n",
        "        raise NotImplementedError\n",
        "    \n",
        "    @abstractmethod\n",
        "    def _conv(self, inputs, activation):\n",
        "        raise NotImplementedError\n",
        "    \n",
        "class IdentityBlock(ResNetBlock):\n",
        "    def __call__(self, inputs):\n",
        "        computations = [\n",
        "            partial(self._conv, activation = True),\n",
        "            partial(self._conv, activation = False),\n",
        "            partial(self._identity, inputs),\n",
        "            layers.Activation('relu')\n",
        "        ]\n",
        "\n",
        "        return reduce(lambda inputs, layer: layer(inputs), computations, inputs)\n",
        "    \n",
        "    def _identity(self, inputs, convolved_output):\n",
        "        return layers.Add()([inputs, convolved_output])\n",
        "\n",
        "    def _conv(self, inputs, activation = True):\n",
        "        # Perform convolutions\n",
        "        conv = layers.Conv2D(\n",
        "            filters=self.filters, \n",
        "            kernel_size=self.kernel_size, \n",
        "            strides = self.strides, \n",
        "            padding = self.padding)(inputs)\n",
        "        \n",
        "        # Perform batch normalization\n",
        "        result = layers.BatchNormalization()(conv)\n",
        "\n",
        "        # Acivate outputs\n",
        "        if activation:\n",
        "            result = layers.Activation('relu')(result)\n",
        "\n",
        "        # return result\n",
        "        return result\n",
        "    \n",
        "input_layer = keras.Input((24, 24, 1))\n",
        "# layer_1 = layers.Conv2D(filters=24, kernel_size=(3, 3), activation='relu', padding = 'SAME')(input_layer)\n",
        "# layer_2 = layers.Conv2D(filters=24, kernel_size=(3, 3), activation='relu', padding = 'SAME')(layer_1)\n",
        "id_layer = IdentityBlock(64, (3,3), 1, 'same')(input_layer)\n",
        "\n",
        "model = keras.Model(inputs = input_layer, outputs = id_layer)\n",
        "\n",
        "\n",
        "model.compile()\n",
        "\n",
        "model.summary()"
      ]
    },
    {
      "cell_type": "code",
      "execution_count": null,
      "metadata": {
        "colab": {
          "base_uri": "https://localhost:8080/",
          "height": 1000
        },
        "id": "CTugmTV9ysB5",
        "outputId": "5fb7139d-d1f5-451e-bd08-a6f859809a35"
      },
      "outputs": [],
      "source": [
        "model = keras.Sequential(\n",
        "    [\n",
        "        layers.InputLayer(input_shape=(24, 24, 1)),\n",
        "        layers.Conv2D(filters=32, kernel_size=3, activation = 'sigmoid'),\n",
        "        layers.BatchNormalization(),\n",
        "        layers.Conv2D(filters=16, kernel_size=3, activation = 'sigmoid'),\n",
        "        layers.BatchNormalization(),\n",
        "        layers.MaxPooling2D(),\n",
        "        layers.Conv2D(filters=8, kernel_size=3, activation = 'sigmoid'),\n",
        "        layers.BatchNormalization(),\n",
        "        layers.MaxPooling2D(),\n",
        "        layers.Flatten(),\n",
        "        layers.Dense(128, activation='sigmoid'),\n",
        "        layers.Dense(10, activation='softmax')\n",
        "    ]\n",
        ")\n",
        "\n",
        "#Compiling our model with appropriate loss function and optimizer\n",
        "model.compile(loss = 'categorical_crossentropy', optimizer= 'adam', metrics=['categorical_accuracy'])\n",
        "\n",
        "# Summary of the model\n",
        "model.summary()\n",
        "\n",
        "#Fitting the model\n",
        "history = model.fit(X, y, epochs=10, validation_split=0.2)"
      ]
    },
    {
      "cell_type": "code",
      "execution_count": null,
      "metadata": {
        "colab": {
          "base_uri": "https://localhost:8080/",
          "height": 470
        },
        "id": "vl9B7wVBysB8",
        "outputId": "2cf19d1f-576a-488f-da42-e74c5071db95"
      },
      "outputs": [],
      "source": [
        "plt.plot(history.history['loss'], label = 'train_loss')\n",
        "plt.plot(history.history['val_loss'], label = 'val_loss')\n",
        "plt.legend()\n",
        "plt.title(\"Loss Curve\")"
      ]
    },
    {
      "cell_type": "code",
      "execution_count": null,
      "metadata": {
        "colab": {
          "base_uri": "https://localhost:8080/",
          "height": 470
        },
        "id": "1F2s9jfw1mxA",
        "outputId": "4e75d782-59a0-4a1f-a983-c82bfae96989"
      },
      "outputs": [],
      "source": [
        "plt.plot(history.history['categorical_accuracy'], label = 'train_accuracy')\n",
        "plt.plot(history.history['val_categorical_accuracy'], label = 'val_accuracy')\n",
        "plt.legend()\n",
        "plt.title(\"Categorical Accuracy Curve\")"
      ]
    }
  ],
  "metadata": {
    "accelerator": "TPU",
    "colab": {
      "provenance": []
    },
    "kernelspec": {
      "display_name": "Python 3",
      "name": "python3"
    },
    "language_info": {
      "codemirror_mode": {
        "name": "ipython",
        "version": 3
      },
      "file_extension": ".py",
      "mimetype": "text/x-python",
      "name": "python",
      "nbconvert_exporter": "python",
      "pygments_lexer": "ipython3",
      "version": "3.9.16"
    },
    "orig_nbformat": 4
  },
  "nbformat": 4,
  "nbformat_minor": 0
}
