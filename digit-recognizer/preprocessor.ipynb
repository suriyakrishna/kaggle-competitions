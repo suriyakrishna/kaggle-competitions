{
 "cells": [
  {
   "cell_type": "code",
   "execution_count": null,
   "metadata": {},
   "outputs": [],
   "source": [
    "# imports\n",
    "import pandas as pd\n",
    "import numpy as np\n",
    "\n",
    "import matplotlib.pyplot as plt\n",
    "\n",
    "import tensorflow as tf\n",
    "\n",
    "from keras import layers\n",
    "import keras\n",
    "\n",
    "def plot_sample_images(images, size = 100):\n",
    "    _imgs = images[:size]\n",
    "    _size = int(np.ceil(np.sqrt(size)))\n",
    "    for i in range(len(_imgs)):\n",
    "        axs = plt.subplot(_size, _size, i + 1)\n",
    "        plt.imshow(_imgs[i])\n",
    "        plt.axis('off')"
   ]
  },
  {
   "cell_type": "code",
   "execution_count": null,
   "metadata": {},
   "outputs": [],
   "source": [
    "train_df = pd.read_csv(\"./data/input/train.csv\")\n",
    "test_df = pd.read_csv(\"./data/input/test.csv\")\n",
    "\n",
    "label = 'label'\n",
    "pixels = train_df.columns.drop(label).tolist()\n",
    "\n",
    "X = train_df[pixels]\n",
    "y = train_df[label]\n",
    "\n",
    "X_reshaped = X.to_numpy().reshape(-1, 28, 28, 1)\n",
    "X_test_unseen = test_df[pixels].to_numpy().reshape(-1, 28, 28, 1)\n",
    "\n",
    "n_labels = y.unique().shape[0]\n",
    "\n",
    "y_onehot = tf.one_hot(y, n_labels).numpy()"
   ]
  },
  {
   "attachments": {},
   "cell_type": "markdown",
   "metadata": {},
   "source": [
    "## Image Rescaling and Reshaping"
   ]
  },
  {
   "cell_type": "code",
   "execution_count": null,
   "metadata": {},
   "outputs": [],
   "source": [
    "resize_and_rescale = keras.Sequential(\n",
    "    [\n",
    "        layers.Resizing(24, 24),\n",
    "        layers.Rescaling(1./255.)\n",
    "    ]\n",
    ")\n",
    "\n",
    "X_resized_and_rescaled = resize_and_rescale(X_reshaped)\n",
    "X_test_unseen_resized_and_rescaled = resize_and_rescale(X_test_unseen)"
   ]
  },
  {
   "attachments": {},
   "cell_type": "markdown",
   "metadata": {},
   "source": [
    "### Plotting: Resized and Rescaled Images"
   ]
  },
  {
   "cell_type": "code",
   "execution_count": null,
   "metadata": {},
   "outputs": [],
   "source": [
    "plot_sample_images(X_resized_and_rescaled, 9)\n",
    "plt.suptitle(\"Before Resizing and Rescaling\")"
   ]
  },
  {
   "cell_type": "code",
   "execution_count": null,
   "metadata": {},
   "outputs": [],
   "source": [
    "plot_sample_images(X_resized_and_rescaled, 9)\n",
    "plt.suptitle(\"After Resizing and Rescaling\")"
   ]
  },
  {
   "attachments": {},
   "cell_type": "markdown",
   "metadata": {},
   "source": [
    "### Save: Resized and Rescaled Images"
   ]
  },
  {
   "cell_type": "code",
   "execution_count": null,
   "metadata": {},
   "outputs": [],
   "source": [
    "from datetime import datetime\n",
    "\n",
    "now = datetime.now().strftime(\"%Y%m%d_%H%M%S\")\n",
    "\n",
    "# Save transformed data - train (X, Y)\n",
    "np.savez_compressed(f\"./data/transformed/train_transformed_{now}\", X = X_resized_and_rescaled, y = y_onehot)\n",
    "\n",
    "# Save transformed data - test unseen (X)\n",
    "np.savez_compressed(f\"./data/transformed/test_unseen_transformed_{now}\", X = X_test_unseen_resized_and_rescaled)"
   ]
  },
  {
   "attachments": {},
   "cell_type": "markdown",
   "metadata": {},
   "source": [
    "## Image Augmentation"
   ]
  },
  {
   "cell_type": "code",
   "execution_count": null,
   "metadata": {},
   "outputs": [],
   "source": [
    "rescaler = keras.Sequential([layers.Rescaling(1./255.)])\n",
    "\n",
    "data_augmenter = keras.Sequential(\n",
    "    [\n",
    "        layers.CenterCrop(24, 24),\n",
    "        layers.\n",
    "    ]\n",
    ")\n",
    "\n",
    "preprocessor = keras.Sequential(\n",
    "    [\n",
    "        rescaler,\n",
    "        data_augmenter\n",
    "    ]\n",
    ")\n",
    "\n",
    "X_augmented = preprocessor(X_reshaped)"
   ]
  },
  {
   "attachments": {},
   "cell_type": "markdown",
   "metadata": {},
   "source": [
    "### Plotting: Augmented Image"
   ]
  },
  {
   "cell_type": "code",
   "execution_count": null,
   "metadata": {},
   "outputs": [],
   "source": [
    "plot_sample_images(X_reshaped, 9)\n",
    "plt.suptitle(\"Before Augmentation\")"
   ]
  },
  {
   "cell_type": "code",
   "execution_count": null,
   "metadata": {},
   "outputs": [],
   "source": [
    "plot_sample_images(X_augmented, 9)\n",
    "plt.suptitle(\"After Augmentation\")"
   ]
  },
  {
   "attachments": {},
   "cell_type": "markdown",
   "metadata": {},
   "source": [
    "### Save: Augmented Images"
   ]
  },
  {
   "cell_type": "code",
   "execution_count": null,
   "metadata": {},
   "outputs": [],
   "source": [
    "from datetime import datetime\n",
    "\n",
    "now = datetime.now().strftime(\"%Y%m%d_%H%M%S\")\n",
    "\n",
    "# Save train augmented data (X, y)\n",
    "np.savez_compressed(f\"./data/transformed/augmented/train_augmented_{now}\", X = X_augmented, y = y_onehot)"
   ]
  }
 ],
 "metadata": {
  "kernelspec": {
   "display_name": "venv",
   "language": "python",
   "name": "python3"
  },
  "language_info": {
   "codemirror_mode": {
    "name": "ipython",
    "version": 3
   },
   "file_extension": ".py",
   "mimetype": "text/x-python",
   "name": "python",
   "nbconvert_exporter": "python",
   "pygments_lexer": "ipython3",
   "version": "3.9.16"
  },
  "orig_nbformat": 4
 },
 "nbformat": 4,
 "nbformat_minor": 2
}
