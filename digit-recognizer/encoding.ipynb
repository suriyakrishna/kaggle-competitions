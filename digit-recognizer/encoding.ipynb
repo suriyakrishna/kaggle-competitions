{
 "cells": [
  {
   "attachments": {},
   "cell_type": "markdown",
   "metadata": {},
   "source": [
    "# Digit Recognizer\n",
    "\n",
    "[here](https://www.kaggle.com/competitions/digit-recognizer/)"
   ]
  },
  {
   "cell_type": "code",
   "execution_count": 60,
   "metadata": {},
   "outputs": [],
   "source": [
    "# imports\n",
    "\n",
    "import pandas as pd\n",
    "import numpy as np\n",
    "\n",
    "import tensorflow as tf\n",
    "\n",
    "import keras\n",
    "from keras import layers, optimizers, metrics, callbacks"
   ]
  },
  {
   "cell_type": "code",
   "execution_count": 75,
   "metadata": {},
   "outputs": [],
   "source": [
    "train_df = pd.read_csv(\"./data/input/train.csv\")\n",
    "test_df = pd.read_csv(\"./data/input/test.csv\")"
   ]
  },
  {
   "cell_type": "code",
   "execution_count": 65,
   "metadata": {},
   "outputs": [],
   "source": [
    "label = 'label'\n",
    "pixels = train_df.columns.drop(label).tolist()\n",
    "\n",
    "X = train_df[pixels].to_numpy()\n",
    "y = train_df[label]\n",
    "\n",
    "# Reshape each row to 28 * 26 (Image)\n",
    "X = X.reshape(-1, 28, 28, 1)\n",
    "\n",
    "# Normalizing Pixel Values\n",
    "X = X / 255\n",
    "\n",
    "# Determine number of distinct label types\n",
    "n_labels = y.unique().shape[0]\n",
    "\n",
    "# Onehot Encoding Labels\n",
    "y = tf.one_hot(y, n_labels).numpy()"
   ]
  },
  {
   "cell_type": "code",
   "execution_count": 77,
   "metadata": {},
   "outputs": [],
   "source": [
    "X_test_unseen = test_df[pixels].to_numpy()\n",
    "X_test_unseen = X_test_unseen.reshape(-1, 28, 28, 1)\n",
    "X_test_unseen = X_test_unseen / 255"
   ]
  },
  {
   "cell_type": "code",
   "execution_count": 66,
   "metadata": {},
   "outputs": [],
   "source": [
    "from sklearn.model_selection import train_test_split\n",
    "\n",
    "X_train, X_test, y_train, y_test = train_test_split(X, y, test_size=0.2, random_state=42)"
   ]
  },
  {
   "cell_type": "code",
   "execution_count": 87,
   "metadata": {},
   "outputs": [
    {
     "name": "stdout",
     "output_type": "stream",
     "text": [
      "Model: \"sequential_7\"\n",
      "_________________________________________________________________\n",
      " Layer (type)                Output Shape              Param #   \n",
      "=================================================================\n",
      " conv2d_14 (Conv2D)          (None, 26, 26, 32)        320       \n",
      "                                                                 \n",
      " max_pooling2d_14 (MaxPoolin  (None, 13, 13, 32)       0         \n",
      " g2D)                                                            \n",
      "                                                                 \n",
      " conv2d_15 (Conv2D)          (None, 11, 11, 16)        4624      \n",
      "                                                                 \n",
      " max_pooling2d_15 (MaxPoolin  (None, 5, 5, 16)         0         \n",
      " g2D)                                                            \n",
      "                                                                 \n",
      " flatten_7 (Flatten)         (None, 400)               0         \n",
      "                                                                 \n",
      " dense_14 (Dense)            (None, 128)               51328     \n",
      "                                                                 \n",
      " dense_15 (Dense)            (None, 10)                1290      \n",
      "                                                                 \n",
      "=================================================================\n",
      "Total params: 57,562\n",
      "Trainable params: 57,562\n",
      "Non-trainable params: 0\n",
      "_________________________________________________________________\n"
     ]
    }
   ],
   "source": [
    "model.summary()"
   ]
  },
  {
   "cell_type": "code",
   "execution_count": 88,
   "metadata": {},
   "outputs": [
    {
     "name": "stdout",
     "output_type": "stream",
     "text": [
      "Epoch 1/10\n",
      "263/263 [==============================] - 19s 64ms/step - loss: 0.5529 - categorical_accuracy: 0.8467 - val_loss: 0.2112 - val_categorical_accuracy: 0.9404\n",
      "Epoch 2/10\n",
      "263/263 [==============================] - 16s 62ms/step - loss: 0.1589 - categorical_accuracy: 0.9566 - val_loss: 0.1428 - val_categorical_accuracy: 0.9599\n",
      "Epoch 3/10\n",
      "263/263 [==============================] - 19s 71ms/step - loss: 0.1065 - categorical_accuracy: 0.9701 - val_loss: 0.1027 - val_categorical_accuracy: 0.9700\n",
      "Epoch 4/10\n",
      "263/263 [==============================] - 23s 89ms/step - loss: 0.0810 - categorical_accuracy: 0.9775 - val_loss: 0.0880 - val_categorical_accuracy: 0.9738\n",
      "Epoch 5/10\n",
      "263/263 [==============================] - 22s 85ms/step - loss: 0.0643 - categorical_accuracy: 0.9821 - val_loss: 0.0782 - val_categorical_accuracy: 0.9764\n",
      "Epoch 6/10\n",
      "263/263 [==============================] - 23s 88ms/step - loss: 0.0523 - categorical_accuracy: 0.9857 - val_loss: 0.0664 - val_categorical_accuracy: 0.9804\n",
      "Epoch 7/10\n",
      "263/263 [==============================] - 22s 85ms/step - loss: 0.0436 - categorical_accuracy: 0.9885 - val_loss: 0.0632 - val_categorical_accuracy: 0.9806\n",
      "Epoch 8/10\n",
      "263/263 [==============================] - 23s 89ms/step - loss: 0.0376 - categorical_accuracy: 0.9899 - val_loss: 0.0577 - val_categorical_accuracy: 0.9824\n",
      "Epoch 9/10\n",
      "263/263 [==============================] - 23s 87ms/step - loss: 0.0302 - categorical_accuracy: 0.9923 - val_loss: 0.0557 - val_categorical_accuracy: 0.9830\n",
      "Epoch 10/10\n",
      "263/263 [==============================] - 20s 75ms/step - loss: 0.0264 - categorical_accuracy: 0.9935 - val_loss: 0.0567 - val_categorical_accuracy: 0.9812\n"
     ]
    },
    {
     "data": {
      "text/plain": [
       "<keras.callbacks.History at 0x2b079f14b20>"
      ]
     },
     "execution_count": 88,
     "metadata": {},
     "output_type": "execute_result"
    }
   ],
   "source": [
    "model = keras.Sequential(\n",
    "    [\n",
    "        layers.InputLayer(input_shape=(28, 28, 1)),\n",
    "        layers.Conv2D(filters=32, kernel_size=3),\n",
    "        layers.MaxPooling2D(),\n",
    "        layers.Conv2D(filters=16, kernel_size=3),\n",
    "        layers.MaxPooling2D(),\n",
    "        layers.Flatten(),\n",
    "        layers.Dense(128, activation='sigmoid'),\n",
    "        layers.Dense(10, activation='softmax')\n",
    "    ]\n",
    ")\n",
    "\n",
    "\n",
    "#Compiling our model with appropriate loss function and optimizer\n",
    "model.compile(loss = 'categorical_crossentropy', optimizer= 'adam', metrics=['categorical_accuracy'])\n",
    "\n",
    "#Fitting the model\n",
    "model.fit(X_train, y_train, epochs=10, validation_data=(X_test, y_test))"
   ]
  },
  {
   "cell_type": "code",
   "execution_count": 86,
   "metadata": {},
   "outputs": [
    {
     "name": "stdout",
     "output_type": "stream",
     "text": [
      "875/875 [==============================] - 7s 7ms/step\n"
     ]
    }
   ],
   "source": [
    "from datetime import datetime\n",
    "\n",
    "\n",
    "# Predict on test unseen\n",
    "y_unseen_predicted = model.predict(X_test_unseen)\n",
    "\n",
    "# Transform labels\n",
    "y_unseen_predicted = tf.argmax(y_unseen_predicted, axis = 1).numpy()\n",
    "\n",
    "now = datetime.now().strftime(\"%Y%m%d_%H%M%S\")\n",
    "\n",
    "output = pd.read_csv(\"./data/input/sample_submission.csv\", index_col=0)\n",
    "output['Label'] = y_unseen_predicted\n",
    "\n",
    "output.to_csv(f\"./data/output/digit_recognizer_{now}.csv\", index=True)"
   ]
  }
 ],
 "metadata": {
  "kernelspec": {
   "display_name": "venv",
   "language": "python",
   "name": "python3"
  },
  "language_info": {
   "codemirror_mode": {
    "name": "ipython",
    "version": 3
   },
   "file_extension": ".py",
   "mimetype": "text/x-python",
   "name": "python",
   "nbconvert_exporter": "python",
   "pygments_lexer": "ipython3",
   "version": "3.9.16"
  },
  "orig_nbformat": 4
 },
 "nbformat": 4,
 "nbformat_minor": 2
}
